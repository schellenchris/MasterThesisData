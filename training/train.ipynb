{
 "cells": [
  {
   "cell_type": "code",
   "execution_count": 1,
   "metadata": {},
   "outputs": [
    {
     "name": "stdout",
     "output_type": "stream",
     "text": [
      "INFO:tensorflow:Using MirroredStrategy with devices ('/job:localhost/replica:0/task:0/device:GPU:0', '/job:localhost/replica:0/task:0/device:GPU:1', '/job:localhost/replica:0/task:0/device:GPU:2', '/job:localhost/replica:0/task:0/device:GPU:3')\n"
     ]
    },
    {
     "name": "stderr",
     "output_type": "stream",
     "text": [
      "2022-02-08 11:26:02.771530: I tensorflow/core/platform/cpu_feature_guard.cc:151] This TensorFlow binary is optimized with oneAPI Deep Neural Network Library (oneDNN) to use the following CPU instructions in performance-critical operations:  AVX2 AVX512F FMA\n",
      "To enable them in other operations, rebuild TensorFlow with the appropriate compiler flags.\n",
      "2022-02-08 11:26:04.657748: I tensorflow/core/common_runtime/gpu/gpu_device.cc:1525] Created device /job:localhost/replica:0/task:0/device:GPU:0 with 47217 MB memory:  -> device: 0, name: Quadro RTX 8000, pci bus id: 0000:1d:00.0, compute capability: 7.5\n",
      "2022-02-08 11:26:04.659431: I tensorflow/core/common_runtime/gpu/gpu_device.cc:1525] Created device /job:localhost/replica:0/task:0/device:GPU:1 with 47217 MB memory:  -> device: 1, name: Quadro RTX 8000, pci bus id: 0000:1e:00.0, compute capability: 7.5\n",
      "2022-02-08 11:26:04.660556: I tensorflow/core/common_runtime/gpu/gpu_device.cc:1525] Created device /job:localhost/replica:0/task:0/device:GPU:2 with 22836 MB memory:  -> device: 2, name: NVIDIA TITAN RTX, pci bus id: 0000:40:00.0, compute capability: 7.5\n",
      "2022-02-08 11:26:04.661637: I tensorflow/core/common_runtime/gpu/gpu_device.cc:1525] Created device /job:localhost/replica:0/task:0/device:GPU:3 with 22836 MB memory:  -> device: 3, name: NVIDIA TITAN RTX, pci bus id: 0000:41:00.0, compute capability: 7.5\n"
     ]
    },
    {
     "ename": "AttributeError",
     "evalue": "module 'voxelmorph.tf.losses' has no attribute 'NMI'",
     "output_type": "error",
     "traceback": [
      "\u001b[0;31m---------------------------------------------------------------------------\u001b[0m",
      "\u001b[0;31mAttributeError\u001b[0m                            Traceback (most recent call last)",
      "\u001b[0;32m/tmp/ipykernel_16665/2576398863.py\u001b[0m in \u001b[0;36m<module>\u001b[0;34m\u001b[0m\n\u001b[1;32m     39\u001b[0m \u001b[0mmodel_name\u001b[0m \u001b[0;34m=\u001b[0m \u001b[0;34mf'ep{epochs}_st{steps}_lr{str(learning_rate).replace(\".\", \"_\")}_bat{batch_size}{\"withResampling\" if resampling else \"\"}'\u001b[0m\u001b[0;34m\u001b[0m\u001b[0;34m\u001b[0m\u001b[0m\n\u001b[1;32m     40\u001b[0m \u001b[0;34m\u001b[0m\u001b[0m\n\u001b[0;32m---> 41\u001b[0;31m model_path = train_vxm_model(train_generator,\n\u001b[0m\u001b[1;32m     42\u001b[0m                              \u001b[0mval_generator\u001b[0m\u001b[0;34m,\u001b[0m\u001b[0;34m\u001b[0m\u001b[0;34m\u001b[0m\u001b[0m\n\u001b[1;32m     43\u001b[0m                              \u001b[0mmulti_gpu\u001b[0m\u001b[0;34m=\u001b[0m\u001b[0mmulti_gpu\u001b[0m\u001b[0;34m,\u001b[0m\u001b[0;34m\u001b[0m\u001b[0;34m\u001b[0m\u001b[0m\n",
      "\u001b[0;32m~/Documents/scripts/pyM2aia/TrainVoxelmorph.py\u001b[0m in \u001b[0;36mtrain_vxm_model\u001b[0;34m(train_generator, val_generator, multi_gpu, epochs, steps_per_epoch, learning_rate, loss, model_name, dataset)\u001b[0m\n\u001b[1;32m     60\u001b[0m         \u001b[0mstrategy\u001b[0m \u001b[0;34m=\u001b[0m \u001b[0mtf\u001b[0m\u001b[0;34m.\u001b[0m\u001b[0mdistribute\u001b[0m\u001b[0;34m.\u001b[0m\u001b[0mMirroredStrategy\u001b[0m\u001b[0;34m(\u001b[0m\u001b[0mdevices\u001b[0m\u001b[0;34m=\u001b[0m\u001b[0mdevices_names\u001b[0m\u001b[0;34m)\u001b[0m\u001b[0;34m\u001b[0m\u001b[0;34m\u001b[0m\u001b[0m\n\u001b[1;32m     61\u001b[0m         \u001b[0;32mwith\u001b[0m \u001b[0mstrategy\u001b[0m\u001b[0;34m.\u001b[0m\u001b[0mscope\u001b[0m\u001b[0;34m(\u001b[0m\u001b[0;34m)\u001b[0m\u001b[0;34m:\u001b[0m\u001b[0;34m\u001b[0m\u001b[0;34m\u001b[0m\u001b[0m\n\u001b[0;32m---> 62\u001b[0;31m             vxm_model = get_vxm_model(sitk.GetImageFromArray(fixed_image),\n\u001b[0m\u001b[1;32m     63\u001b[0m                                       \u001b[0mloss\u001b[0m\u001b[0;34m=\u001b[0m\u001b[0mloss\u001b[0m\u001b[0;34m,\u001b[0m\u001b[0;34m\u001b[0m\u001b[0;34m\u001b[0m\u001b[0m\n\u001b[1;32m     64\u001b[0m                                       learning_rate=learning_rate)\n",
      "\u001b[0;32m~/Documents/scripts/pyM2aia/TrainVoxelmorph.py\u001b[0m in \u001b[0;36mget_vxm_model\u001b[0;34m(fixed_image, loss, learning_rate)\u001b[0m\n\u001b[1;32m    115\u001b[0m         \u001b[0mlosses\u001b[0m \u001b[0;34m=\u001b[0m \u001b[0;34m[\u001b[0m\u001b[0mvxm\u001b[0m\u001b[0;34m.\u001b[0m\u001b[0mlosses\u001b[0m\u001b[0;34m.\u001b[0m\u001b[0mNCC\u001b[0m\u001b[0;34m(\u001b[0m\u001b[0;34m)\u001b[0m\u001b[0;34m.\u001b[0m\u001b[0mloss\u001b[0m\u001b[0;34m,\u001b[0m \u001b[0mvxm\u001b[0m\u001b[0;34m.\u001b[0m\u001b[0mlosses\u001b[0m\u001b[0;34m.\u001b[0m\u001b[0mGrad\u001b[0m\u001b[0;34m(\u001b[0m\u001b[0;34m'l2'\u001b[0m\u001b[0;34m)\u001b[0m\u001b[0;34m.\u001b[0m\u001b[0mloss\u001b[0m\u001b[0;34m]\u001b[0m\u001b[0;34m\u001b[0m\u001b[0;34m\u001b[0m\u001b[0m\n\u001b[1;32m    116\u001b[0m     \u001b[0;32melif\u001b[0m \u001b[0mloss\u001b[0m \u001b[0;34m==\u001b[0m \u001b[0;34m'NMI'\u001b[0m\u001b[0;34m:\u001b[0m\u001b[0;34m\u001b[0m\u001b[0;34m\u001b[0m\u001b[0m\n\u001b[0;32m--> 117\u001b[0;31m         \u001b[0mlosses\u001b[0m \u001b[0;34m=\u001b[0m \u001b[0;34m[\u001b[0m\u001b[0mvxm\u001b[0m\u001b[0;34m.\u001b[0m\u001b[0mlosses\u001b[0m\u001b[0;34m.\u001b[0m\u001b[0mNMI\u001b[0m\u001b[0;34m(\u001b[0m\u001b[0;34m)\u001b[0m\u001b[0;34m.\u001b[0m\u001b[0mloss\u001b[0m\u001b[0;34m,\u001b[0m \u001b[0mvxm\u001b[0m\u001b[0;34m.\u001b[0m\u001b[0mlosses\u001b[0m\u001b[0;34m.\u001b[0m\u001b[0mGrad\u001b[0m\u001b[0;34m(\u001b[0m\u001b[0;34m'l2'\u001b[0m\u001b[0;34m)\u001b[0m\u001b[0;34m.\u001b[0m\u001b[0mloss\u001b[0m\u001b[0;34m]\u001b[0m\u001b[0;34m\u001b[0m\u001b[0;34m\u001b[0m\u001b[0m\n\u001b[0m\u001b[1;32m    118\u001b[0m     \u001b[0;32melse\u001b[0m\u001b[0;34m:\u001b[0m\u001b[0;34m\u001b[0m\u001b[0;34m\u001b[0m\u001b[0m\n\u001b[1;32m    119\u001b[0m         raise NotImplementedError(\n",
      "\u001b[0;31mAttributeError\u001b[0m: module 'voxelmorph.tf.losses' has no attribute 'NMI'"
     ]
    }
   ],
   "source": [
    "import json\n",
    "from DataHandler import DataHandler\n",
    "#from VoxelmorphTF import train_vxm_model\n",
    "from TrainVoxelmorph import train_vxm_model\n",
    "\n",
    "batch_size = 8\n",
    "batch_size_val = 12\n",
    "epochs = 200\n",
    "steps = 100\n",
    "learning_rate = 0.001\n",
    "resampling = False\n",
    "dataset = 'synthetic'\n",
    "multi_gpu = True\n",
    "dh = DataHandler()\n",
    "if dataset == 'synthetic':\n",
    "    dh.get_synthetic_data(\n",
    "        fixed_path=\n",
    "        '/home/cschellenberger/datam2olie/synthetic/orig/t3/Synthetic_CT/',\n",
    "        moving_path=\n",
    "        '/home/cschellenberger/datam2olie/synthetic/orig/t1/Synthetic_CBCT/')\n",
    "elif dataset == 'mnist':\n",
    "    dh.get_mnist_data(select_number=5)\n",
    "else:\n",
    "    raise NotImplementedError(\n",
    "        f'{dataset} is not implemented yet please select one of the following losses [mnist, synthetic]'\n",
    "    )\n",
    "\n",
    "train_generator = dh.data_gen_voxelmorph(data_x=dh.x_train,\n",
    "                                         data_y=dh.y_train,\n",
    "                                         random_resampling=resampling,\n",
    "                                         batch_size=batch_size,\n",
    "                                         shuffle=True)\n",
    "val_generator = dh.data_gen_voxelmorph(data_x=dh.x_val,\n",
    "                                       data_y=dh.y_val,\n",
    "                                       random_resampling=False,\n",
    "                                       batch_size=batch_size_val,\n",
    "                                       shuffle=False)\n",
    "\n",
    "model_name = f'ep{epochs}_st{steps}_lr{str(learning_rate).replace(\".\", \"_\")}_bat{batch_size}{\"withResampling\" if resampling else \"\"}'\n",
    "\n",
    "model_path = train_vxm_model(train_generator,\n",
    "                             val_generator,\n",
    "                             multi_gpu=multi_gpu,\n",
    "                             steps_per_epoch=steps,\n",
    "                             learning_rate=learning_rate,\n",
    "                             loss='NMI',\n",
    "                             model_name=model_name,\n",
    "                             dataset=dataset,\n",
    "                             epochs=epochs)"
   ]
  },
  {
   "cell_type": "code",
   "execution_count": 1,
   "metadata": {},
   "outputs": [
    {
     "name": "stderr",
     "output_type": "stream",
     "text": [
      "UsageError: Line magic function `%tensorboard` not found.\n"
     ]
    }
   ],
   "source": [
    "%tensorboard"
   ]
  }
 ],
 "metadata": {
  "interpreter": {
   "hash": "c9debd726cb181d61f55789b752b213620e0e1fe4a35b9ad670b0d66a9542fcd"
  },
  "kernelspec": {
   "display_name": "Python 3.8.10 64-bit ('venv': venv)",
   "language": "python",
   "name": "python3"
  },
  "language_info": {
   "codemirror_mode": {
    "name": "ipython",
    "version": 3
   },
   "file_extension": ".py",
   "mimetype": "text/x-python",
   "name": "python",
   "nbconvert_exporter": "python",
   "pygments_lexer": "ipython3",
   "version": "3.8.10"
  },
  "orig_nbformat": 4
 },
 "nbformat": 4,
 "nbformat_minor": 2
}
