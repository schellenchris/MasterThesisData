{
 "cells": [
  {
   "cell_type": "code",
   "execution_count": 10,
   "metadata": {},
   "outputs": [],
   "source": [
    "import SimpleITK as sitk\n",
    "from DataHandler import DataHandler\n",
    "import pickle\n",
    "import numpy as np\n",
    "import os\n",
    "import pathlib"
   ]
  },
  {
   "cell_type": "code",
   "execution_count": 11,
   "metadata": {},
   "outputs": [],
   "source": [
    "def get_landmarks(fixed_image_path: str, indexing: str = 'zyx', preResample = False):\n",
    "    model_name = os.path.basename(fixed_image_path).replace('_atn_3.nrrd', '')\n",
    "    if preResample: \n",
    "        loaded_points = pickle.load(open(f'/home/cschellenberger/Documents/vectorPickles/{model_name}_vec_frame1_to_frame2.p', \"rb\"))\n",
    "        moving_landmarks = [(float(loaded_points[idx]['1X']), float(loaded_points[idx]['1Y']), float(loaded_points[idx]['1Z'])) for (idx, _) in enumerate(loaded_points)]\n",
    "        fixed_landmarks = [(float(loaded_points[idx]['2X']), float(loaded_points[idx]['2Y']), float(loaded_points[idx]['2Z'])) for (idx, _) in enumerate(loaded_points)]\n",
    "    else: \n",
    "        loaded_points = pickle.load(open(f'/home/cschellenberger/Documents/vectorPickles/CT_points_t1_t3_withRegion_Continuous/{model_name}_idx.p', \"rb\"))\n",
    "        moving_landmarks = loaded_points['t1']\n",
    "        fixed_landmarks = loaded_points['t3']\n",
    "    regions = np.array(loaded_points['Region'])\n",
    "    if indexing == 'xzy':\n",
    "        # swap columns because numpy and vxm use zyx indexing and the data uses xyz indexing\n",
    "        moving_landmarks[:, [1, 2]] = moving_landmarks[:, [2, 1]]\n",
    "        fixed_landmarks[:, [1, 2]] = fixed_landmarks[:, [2, 1]]\n",
    "    elif indexing == 'zyx':\n",
    "        # swap columns because numpy and vxm use zyx indexing and the data uses xyz indexing\n",
    "        moving_landmarks[:, [0, 2]] = moving_landmarks[:, [2, 0]]\n",
    "        fixed_landmarks[:, [0, 2]] = fixed_landmarks[:, [2, 0]]\n",
    "    elif indexing == 'yxz':\n",
    "        # swap columns because numpy and vxm use zyx indexing and the data uses xyz indexing\n",
    "        moving_landmarks[:, [0, 1]] = moving_landmarks[:, [1, 0]]\n",
    "        fixed_landmarks[:, [0, 1]] = fixed_landmarks[:, [1, 0]]\n",
    "    else: assert indexing == 'xyz', f'indexing can only be xyz or zyx. Got: {indexing}'\n",
    "    return moving_landmarks, fixed_landmarks, regions"
   ]
  },
  {
   "cell_type": "code",
   "execution_count": null,
   "metadata": {},
   "outputs": [],
   "source": [
    "from TrainVoxelmorph import VoxelmorphTF\n",
    "def get_moved_points(points: np.array, displacement: sitk.Image) -> np.array:\n",
    "    displacement_copy = displacement.__copy__()\n",
    "    displacement_transform = sitk.DisplacementFieldTransform(displacement_copy)\n",
    "    moved_points = [displacement_transform.TransformPoint(point) for point in points]\n",
    "    return moved_points\n",
    "    \n",
    "weights_path = '/home/cschellenberger/Documents/scripts/models/synthetic/localmi_thirdTrain_intsteps3_reg002_1000_st14_lr1e-05_bat3/bestWeights.h5'\n",
    "downsize = 1\n",
    "dh = DataHandler(val_images=12)\n",
    "dh.get_synthetic_data(\n",
    "    fixed_path='/home/cschellenberger/datam2olie/synthetic/orig/t3/Synthetic_CT/',\n",
    "    moving_path='/home/cschellenberger/datam2olie/synthetic/orig/t1/Synthetic_MR/')\n",
    "i = 0\n",
    "resErr = 0\n",
    "dists = {}\n",
    "moving_image_paths = dh.x_val\n",
    "fixed_image_paths = dh.y_val\n",
    "nb_features = [[16, 16, 32, 32], [32, 32, 32, 32, 32, 16, 16]]\n",
    "device = '/cpu:0'\n",
    "imgReg = VoxelmorphTF(weights_path, sitk.ReadImage(fixed_image_paths[0]), nb_features, downsize)\n",
    "for i in range(1):\n",
    "    fixed_image = sitk.ReadImage(fixed_image_paths[i])\n",
    "    moving_image = sitk.ReadImage(moving_image_paths[i])\n",
    "    moving_landmarks, fixed_landmarks, regions = get_landmarks(fixed_image_paths[i], indexing='xyz')\n",
    "    moved_img, displacement_np, time = imgReg.register_images(moving_image, fixed_image, device)\n",
    "    displacement = displacement_np.squeeze()\n",
    "    displacement = sitk.GetImageFromArray(displacement.astype(np.float64), isVector=True)\n",
    "    displacement.SetSpacing(fixed_image.GetSpacing())\n",
    "    displacement.SetOrigin(fixed_image.GetOrigin())\n",
    "    moved_landmarks = get_moved_points(fixed_landmarks, displacement)"
   ]
  },
  {
   "cell_type": "code",
   "execution_count": 19,
   "metadata": {},
   "outputs": [],
   "source": [
    "for i, point in enumerate(moving_landmarks):\n",
    "    point = moving_image.TransformPhysicalPointToIndex(moving_image.TransformContinuousIndexToPhysicalPoint(point))\n",
    "    displacement.SetPixel(point[0], point[1], point[2], disp_np[i] * 1.8)"
   ]
  },
  {
   "cell_type": "code",
   "execution_count": 10,
   "metadata": {},
   "outputs": [
    {
     "name": "stdout",
     "output_type": "stream",
     "text": [
      "0\n"
     ]
    }
   ],
   "source": [
    "dh = DataHandler(val_images=0)\n",
    "dh.get_synthetic_data(\n",
    "    fixed_path='/home/cschellenberger/datam2olie/synthetic/orig/t3/Synthetic_CT/',\n",
    "    moving_path='/home/cschellenberger/datam2olie/synthetic/orig/t1/Synthetic_CT/')\n",
    "moving_image_paths = dh.x_train\n",
    "fixed_image_paths = dh.y_train\n",
    "for idx in range(1):\n",
    "    print(idx)\n",
    "    moving_image = sitk.ReadImage(moving_image_paths[idx])\n",
    "    moving_landmarks, fixed_landmarks, regions = get_landmarks(fixed_image_paths[idx], indexing='xyz')\n",
    "    newT3 = sitk.ReadImage(fixed_image_paths[idx])\n",
    "    for i in range(len(fixed_landmarks)):\n",
    "        pointFixed = moving_image.TransformPhysicalPointToIndex(moving_image.TransformContinuousIndexToPhysicalPoint(fixed_landmarks[i]))\n",
    "        pointMoving = moving_image.TransformPhysicalPointToIndex(moving_image.TransformContinuousIndexToPhysicalPoint(moving_landmarks[i]))\n",
    "        try: newT3.SetPixel(pointFixed[0], pointFixed[1], pointFixed[2], moving_image.GetPixel(pointMoving[0], pointMoving[1], pointMoving[2]))\n",
    "        except: continue\n",
    "    path = pathlib.Path(fixed_image_paths[idx])\n",
    "    parts = list(path.parts)\n",
    "    #sitk.WriteImage(newT3, f'/home/cschellenberger/Documents/newT3/{parts[-1]}')"
   ]
  },
  {
   "cell_type": "code",
   "execution_count": 5,
   "metadata": {},
   "outputs": [
    {
     "name": "stdout",
     "output_type": "stream",
     "text": [
      "0\n"
     ]
    }
   ],
   "source": [
    "dh = DataHandler(val_images=0)\n",
    "dh.get_synthetic_data(\n",
    "    fixed_path='/home/cschellenberger/datam2olie/synthetic/orig/t3/Synthetic_CT/',\n",
    "    moving_path='/home/cschellenberger/datam2olie/synthetic/orig/t1/Synthetic_CT/')\n",
    "moving_image_paths = dh.x_train\n",
    "fixed_image_paths = dh.y_train\n",
    "for idx in range(1):\n",
    "    print(idx)\n",
    "    moving_image = sitk.ReadImage(moving_image_paths[idx])\n",
    "    moving_landmarks, fixed_landmarks, regions = get_landmarks(fixed_image_paths[idx], indexing='xyz')\n",
    "    newT3 = sitk.ReadImage(moving_image_paths[idx])\n",
    "    for i in range(len(fixed_landmarks)):\n",
    "        pointFixed = moving_image.TransformPhysicalPointToIndex(moving_image.TransformContinuousIndexToPhysicalPoint(fixed_landmarks[i]))\n",
    "        pointMoving = moving_image.TransformPhysicalPointToIndex(moving_image.TransformContinuousIndexToPhysicalPoint(moving_landmarks[i]))\n",
    "        try: newT3.SetPixel(pointFixed[0], pointFixed[1], pointFixed[2], moving_image.GetPixel(pointMoving[0], pointMoving[1], pointMoving[2]))\n",
    "        except: continue\n",
    "    path = pathlib.Path(fixed_image_paths[idx])\n",
    "    parts = list(path.parts)\n",
    "    #sitk.WriteImage(newT3, f'/home/cschellenberger/Documents/newT3/{parts[-1]}')"
   ]
  },
  {
   "cell_type": "code",
   "execution_count": 19,
   "metadata": {},
   "outputs": [],
   "source": [
    "def findPixel(i, j, k, image):\n",
    "    if k < image.GetSize()[2] - 1 and displacement.GetPixel(i, j, k + 1) != (0, 0, 0): return displacement.GetPixel(i, j, k + 1)\n",
    "    if k > 0 and displacement.GetPixel(i, j, k - 1) != (0, 0, 0): return displacement.GetPixel(i, j, k - 1)\n",
    "    return (0, 0, 0)"
   ]
  },
  {
   "cell_type": "code",
   "execution_count": null,
   "metadata": {},
   "outputs": [],
   "source": [
    "\n",
    "from matplotlib.pyplot import imsave\n",
    "import matplotlib.cm as cm"
   ]
  },
  {
   "cell_type": "code",
   "execution_count": 20,
   "metadata": {},
   "outputs": [
    {
     "name": "stdout",
     "output_type": "stream",
     "text": [
      "0\n"
     ]
    }
   ],
   "source": [
    "dh = DataHandler(val_images=0)\n",
    "dh.get_synthetic_data(\n",
    "    fixed_path='/home/cschellenberger/datam2olie/synthetic/native/t3/Synthetic_CT/',\n",
    "    moving_path='/home/cschellenberger/datam2olie/synthetic/native/t1/Synthetic_CT/')\n",
    "moving_image_paths = dh.x_train\n",
    "fixed_image_paths = dh.y_train\n",
    "for idx in range(1):\n",
    "    print(idx)\n",
    "    moving_image = sitk.ReadImage(moving_image_paths[idx])\n",
    "    fixed_image = sitk.ReadImage(fixed_image_paths[idx])\n",
    "    moving_landmarks, fixed_landmarks, regions = get_landmarks(fixed_image_paths[idx], indexing='xyz', preResample=True)\n",
    "    displacement_np = np.array(moving_landmarks) - np.array(fixed_landmarks)\n",
    "    displacement = sitk.Image(moving_image.GetSize(), sitk.sitkVectorFloat64)\n",
    "    displacement.SetSpacing(moving_image.GetSpacing())\n",
    "    displacement.SetOrigin(moving_image.GetOrigin())\n",
    "    for i, point in enumerate(moving_landmarks):\n",
    "        pointFixed = moving_image.TransformPhysicalPointToIndex(moving_image.TransformContinuousIndexToPhysicalPoint(fixed_landmarks[i]))\n",
    "        try: displacement.SetPixel(pointFixed[0], pointFixed[1], pointFixed[2], displacement_np[i] * 1.8)\n",
    "        except: continue\n",
    "    for i in range(moving_image.GetSize()[0]):\n",
    "        for j in range(moving_image.GetSize()[1]):\n",
    "            for k in range(moving_image.GetSize()[2]):\n",
    "                if displacement.GetPixel(i, j, k) == (0, 0, 0):\n",
    "                    displacement.SetPixel(i, j, k, findPixel(i, j, k, moving_image))\n",
    "    displacement_transform = displacement.__copy__()\n",
    "    displacement_transform = sitk.DisplacementFieldTransform(displacement_transform)\n",
    "    resampler = sitk.ResampleImageFilter()\n",
    "    resampler.SetReferenceImage(moving_image)\n",
    "    resampler.SetTransform(displacement_transform)\n",
    "    newT3 = resampler.Execute(moving_image)\n",
    "    # for i in range(moving_image.GetSize()[0]):\n",
    "    #     for j in range(moving_image.GetSize()[1]):\n",
    "    #         for k in range(moving_image.GetSize()[2]):\n",
    "    #             if -1 < newT3.GetPixel(i, j, k) < 1:\n",
    "    #                 newT3.SetPixel(i, j, k, fixed_image.GetPixel(i, j, k))\n",
    "    newT3 = sitk.GetArrayFromImage(newT3)[:, :, 256]\n",
    "    imsave(f'./ValImgOrig/newT3v2{idx}.jpg', np.flip(newT3, 0), cmap=cm.gray)\n",
    "    path = pathlib.Path(fixed_image_paths[idx])\n",
    "    parts = list(path.parts)\n",
    "    #sitk.WriteImage(newT3, f'/home/cschellenberger/Documents/newT3v2/{parts[-1]}')"
   ]
  },
  {
   "cell_type": "code",
   "execution_count": 5,
   "metadata": {},
   "outputs": [],
   "source": [
    "newT3v1 = newT3"
   ]
  },
  {
   "cell_type": "code",
   "execution_count": 7,
   "metadata": {},
   "outputs": [],
   "source": [
    "newT3v2 = newT3"
   ]
  },
  {
   "cell_type": "code",
   "execution_count": 9,
   "metadata": {},
   "outputs": [],
   "source": [
    "newT3v3 = newT3"
   ]
  },
  {
   "cell_type": "code",
   "execution_count": 16,
   "metadata": {},
   "outputs": [
    {
     "name": "stdout",
     "output_type": "stream",
     "text": [
      "You can find your images @  http://141.19.142.80:8899\n",
      "\n"
     ]
    }
   ],
   "source": [
    "from pyM2aia import M2aiaOnlineHelper\n",
    "M2aiaHelper = M2aiaOnlineHelper(\"ipynbViewer\", \"jtfc.de:5050/m2aia/m2aia-no-vnc:with_exit\", \"8899\")\n",
    "with M2aiaHelper as helper:\n",
    "    helper.show({\"t1\": moving_image, \"t3\": fixed_image, \"newT3v0\": newT3}) #\"disp\": displacement \"newT3v1\": newT3v1, \"newT3v2\": newT3v2, \"newT3v3\": newT3v3, "
   ]
  }
 ],
 "metadata": {
  "interpreter": {
   "hash": "c9debd726cb181d61f55789b752b213620e0e1fe4a35b9ad670b0d66a9542fcd"
  },
  "kernelspec": {
   "display_name": "Python 3.8.10 64-bit ('venv': venv)",
   "language": "python",
   "name": "python3"
  },
  "language_info": {
   "codemirror_mode": {
    "name": "ipython",
    "version": 3
   },
   "file_extension": ".py",
   "mimetype": "text/x-python",
   "name": "python",
   "nbconvert_exporter": "python",
   "pygments_lexer": "ipython3",
   "version": "3.8.10"
  },
  "orig_nbformat": 4
 },
 "nbformat": 4,
 "nbformat_minor": 2
}
