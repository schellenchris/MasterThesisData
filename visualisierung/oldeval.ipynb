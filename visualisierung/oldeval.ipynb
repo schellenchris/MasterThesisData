{
 "cells": [
  {
   "cell_type": "code",
   "execution_count": 1,
   "metadata": {},
   "outputs": [],
   "source": [
    "import numpy as np\n",
    "import pickle\n",
    "import pandas as pd\n",
    "import seaborn as sns\n",
    "import matplotlib.pyplot as plt\n",
    "from oldTrainVoxelmorph import VoxelmorphTF\n",
    "from DataHandler import DataHandler\n",
    "import SimpleITK as sitk\n",
    "import os"
   ]
  },
  {
   "cell_type": "code",
   "execution_count": 2,
   "metadata": {},
   "outputs": [],
   "source": [
    "def get_moved_points(points: np.array, displacement: sitk.Image) -> np.array:\n",
    "    displacement_transform = sitk.DisplacementFieldTransform(sitk.Cast(displacement, sitk.sitkVectorFloat64))\n",
    "    moved_points = [\n",
    "        displacement_transform.TransformPoint(point) for point in points\n",
    "    ]\n",
    "    return moved_points\n",
    "\n",
    "def get_landmarks(fixed_image_path: str, indexing: str = 'zyx', MR = False) -> (np.array, np.array):\n",
    "    model_name = os.path.basename(fixed_image_path).replace('_atn_3.nrrd', '')\n",
    "    # loaded_points = np.load(\n",
    "    #     f'/home/cschellenberger/Documents/vectorPickles/CT_points_t1_t3_withRegion/{model_name}_idx.p'\n",
    "    # )\n",
    "    if MR: loaded_points = pickle.load(open(f'/home/cschellenberger/Documents/vectorPickles/CTMR_points_t1_t3_withRegion/{model_name}_idx.p', \"rb\"))\n",
    "    else: loaded_points = pickle.load(open(f'/home/cschellenberger/Documents/vectorPickles/CT_points_t1_t3_withRegion/{model_name}_idx.p', \"rb\"))\n",
    "    moving_landmarks = np.array(loaded_points['t1'])\n",
    "    fixed_landmarks = np.array(loaded_points['t3'])\n",
    "    if indexing == 'zyx':\n",
    "        # swap columns because numpy and vxm use zyx indexing and the data uses xyz indexing\n",
    "        moving_landmarks[:, [0, 2]] = moving_landmarks[:, [2, 0]]\n",
    "        fixed_landmarks[:, [0, 2]] = fixed_landmarks[:, [2, 0]]\n",
    "    if indexing == 'yxz':\n",
    "        # swap columns because numpy and vxm use zyx indexing and the data uses xyz indexing\n",
    "        moving_landmarks[:, [0, 1]] = moving_landmarks[:, [1, 0]]\n",
    "        fixed_landmarks[:, [0, 1]] = fixed_landmarks[:, [1, 0]]\n",
    "    else:\n",
    "        assert indexing == 'xyz', f'indexing can only be xyz or zyx. Got: {indexing}'\n",
    "    return moving_landmarks.astype(np.float64), fixed_landmarks.astype(\n",
    "        np.float64)"
   ]
  },
  {
   "cell_type": "code",
   "execution_count": 3,
   "metadata": {},
   "outputs": [
    {
     "name": "stderr",
     "output_type": "stream",
     "text": [
      "2022-03-07 19:45:08.062815: I tensorflow/core/platform/cpu_feature_guard.cc:151] This TensorFlow binary is optimized with oneAPI Deep Neural Network Library (oneDNN) to use the following CPU instructions in performance-critical operations:  AVX2 AVX512F FMA\n",
      "To enable them in other operations, rebuild TensorFlow with the appropriate compiler flags.\n",
      "2022-03-07 19:45:10.148294: I tensorflow/core/common_runtime/gpu/gpu_device.cc:1525] Created device /job:localhost/replica:0/task:0/device:GPU:0 with 39196 MB memory:  -> device: 0, name: Quadro RTX 8000, pci bus id: 0000:1d:00.0, compute capability: 7.5\n",
      "2022-03-07 19:45:10.150050: I tensorflow/core/common_runtime/gpu/gpu_device.cc:1525] Created device /job:localhost/replica:0/task:0/device:GPU:1 with 46890 MB memory:  -> device: 1, name: Quadro RTX 8000, pci bus id: 0000:1e:00.0, compute capability: 7.5\n",
      "2022-03-07 19:45:10.151205: I tensorflow/core/common_runtime/gpu/gpu_device.cc:1525] Created device /job:localhost/replica:0/task:0/device:GPU:2 with 22511 MB memory:  -> device: 2, name: NVIDIA TITAN RTX, pci bus id: 0000:40:00.0, compute capability: 7.5\n",
      "2022-03-07 19:45:10.152343: I tensorflow/core/common_runtime/gpu/gpu_device.cc:1525] Created device /job:localhost/replica:0/task:0/device:GPU:3 with 22511 MB memory:  -> device: 3, name: NVIDIA TITAN RTX, pci bus id: 0000:41:00.0, compute capability: 7.5\n"
     ]
    }
   ],
   "source": [
    "framework = VoxelmorphTF()\n",
    "dh = DataHandler(val_images=12)\n",
    "model_path = '/home/cschellenberger/Documents/scripts/models/synthetic/lucavxm/weights.h5'\n",
    "#model_path = '/home/cschellenberger/Documents/scripts/models/synthetic/vxmtf_CTMRTep200_st100_lr0_001_bat8_final_loss0_0111/weights.h5'\n",
    "#model_path = '/home/cschellenberger/Documents/scripts/models/synthetic/vxmtf_NCCFullCTMRTep200_st100_lr0_001_bat8_actual_ep163_final_loss-0_5922/weights.h5'\n",
    "dh.get_synthetic_data(\n",
    "    fixed_path='/home/cschellenberger/datam2olie/synthetic/orig/t3/Synthetic_CT/',\n",
    "    moving_path='/home/cschellenberger/datam2olie/synthetic/orig/t1/Synthetic_CT/',\n",
    "    traverse_sub_dir=False)\n",
    "moving_image_paths = dh.x_val\n",
    "fixed_image_paths = dh.y_val\n",
    "moving_image = sitk.ReadImage(moving_image_paths[0])\n",
    "fixed_image = sitk.ReadImage(fixed_image_paths[0])\n",
    "moving_image = sitk.Cast(moving_image, sitk.sitkFloat32)\n",
    "fixed_image = sitk.Cast(fixed_image, sitk.sitkFloat32)\n",
    "nb_features = [[16, 32, 32, 32], [32, 32, 32, 32, 32, 16, 16]]\n",
    "#nb_features = [[16, 16, 32, 32], [32, 32, 16, 16]]\n",
    "moved_image_np, displacement_np, time = framework.register_images(\n",
    "        fixed_image=fixed_image,\n",
    "        moving_image=moving_image,\n",
    "        weights_path=model_path,\n",
    "        nb_features=nb_features)\n"
   ]
  },
  {
   "cell_type": "code",
   "execution_count": 4,
   "metadata": {},
   "outputs": [],
   "source": [
    "displacement = displacement_np.squeeze()\n",
    "displacement[:,:,:,[0,2]] = displacement[:,:,:,[2,0]]\n",
    "displacement = 1.8 * displacement\n",
    "moved_image = moved_image_np.squeeze()\n",
    "moved_image = sitk.GetImageFromArray(moved_image)\n",
    "displacement = sitk.GetImageFromArray(displacement, isVector=True)\n",
    "displacement.SetSpacing(fixed_image.GetSpacing())\n",
    "displacement.SetOrigin(fixed_image.GetOrigin())\n",
    "displacement.SetDirection(fixed_image.GetDirection())\n",
    "moved_image.SetSpacing(fixed_image.GetSpacing())\n",
    "moved_image.SetOrigin(fixed_image.GetOrigin())\n",
    "moved_image.SetDirection(fixed_image.GetDirection())"
   ]
  },
  {
   "cell_type": "code",
   "execution_count": 12,
   "metadata": {},
   "outputs": [
    {
     "name": "stderr",
     "output_type": "stream",
     "text": [
      "2022-03-07 19:43:21.408072: I tensorflow/stream_executor/cuda/cuda_dnn.cc:366] Loaded cuDNN version 8202\n",
      "2022-03-07 19:43:21.913624: I tensorflow/core/platform/default/subprocess.cc:304] Start cannot spawn child process: No such file or directory\n"
     ]
    }
   ],
   "source": [
    "from oldTrainVoxelmorph import get_vxm_model\n",
    "moving_image_np = sitk.GetArrayFromImage(moving_image)[np.newaxis, :]\n",
    "fixed_image_np = sitk.GetArrayFromImage(fixed_image)[np.newaxis, :]\n",
    "moved_image_np, displacement_np = get_vxm_model(fixed_image).predict([moving_image_np, fixed_image_np])"
   ]
  },
  {
   "cell_type": "code",
   "execution_count": 4,
   "metadata": {},
   "outputs": [
    {
     "data": {
      "text/plain": [
       "(1, 128, 256, 256, 3)"
      ]
     },
     "execution_count": 4,
     "metadata": {},
     "output_type": "execute_result"
    }
   ],
   "source": [
    "displacement_np.shape"
   ]
  },
  {
   "cell_type": "code",
   "execution_count": 5,
   "metadata": {},
   "outputs": [],
   "source": [
    "def get_moved_image(image: sitk.Image, displacement: sitk.Image) -> np.array:\n",
    "    resampler = sitk.ResampleImageFilter()\n",
    "    displacement_transform = sitk.DisplacementFieldTransform(sitk.Cast(displacement,sitk.sitkVectorFloat64))\n",
    "    resampler.SetReferenceImage(image)\n",
    "    resampler.SetTransform(displacement_transform)\n",
    "    return resampler.Execute(image)"
   ]
  },
  {
   "cell_type": "code",
   "execution_count": 6,
   "metadata": {},
   "outputs": [
    {
     "name": "stdout",
     "output_type": "stream",
     "text": [
      "You can find your images @  http://141.19.142.80:8899\n",
      "\n"
     ]
    }
   ],
   "source": [
    "from pyM2aia import M2aiaOnlineHelper\n",
    "fixedDisp = get_moved_image(fixed_image, displacement)\n",
    "movingDisp = get_moved_image(moving_image, displacement)\n",
    "M2aiaHelper = M2aiaOnlineHelper(\"ipynbViewer\", \"jtfc.de:5050/m2aia/m2aia-no-vnc:with_exit\", \"8899\")\n",
    "with M2aiaHelper as helper:\n",
    "    helper.show({\"moved\": moved_image, \"fixedDisp\": fixedDisp, \"movingDisp\": movingDisp, \"fixed\": fixed_image, \"moving\": moving_image})\n",
    "    "
   ]
  },
  {
   "cell_type": "code",
   "execution_count": 185,
   "metadata": {},
   "outputs": [],
   "source": [
    "vector_field_path = \"/home/cschellenberger/Documents/vectorPickles/CT_points_t1_t3_withRegion/CT_Model106_Energy110_idx.p\"\n",
    "dic = pickle.load(open(vector_field_path, \"rb\"))\n",
    "df = pd.DataFrame()\n",
    "df['t1X'] = [x[0] for x in dic['t1']]\n",
    "df['t1Y'] = [x[1] for x in dic['t1']]\n",
    "df['t1Z'] = [x[2] for x in dic['t1']]\n",
    "df['t3X'] = [x[0] for x in dic['t3']]\n",
    "df['t3Y'] = [x[1] for x in dic['t3']]\n",
    "df['t3Z'] = [x[2] for x in dic['t3']]\n",
    "df['Region'] = dic['Region']"
   ]
  },
  {
   "cell_type": "code",
   "execution_count": 189,
   "metadata": {},
   "outputs": [
    {
     "name": "stdout",
     "output_type": "stream",
     "text": [
      "t1X                              160\n",
      "t1Y                               77\n",
      "t1Z                                6\n",
      "t3X                              160\n",
      "t3Y                               70\n",
      "t3Z                               -1\n",
      "Region    known_vector_chest_surface\n",
      "evalX                     159.964115\n",
      "evalY                      73.898271\n",
      "evalZ                        0.93064\n",
      "dist                       14.008596\n",
      "Name: 220, dtype: object\n"
     ]
    }
   ],
   "source": [
    "moving_landmarks, fixed_landmarks = get_landmarks(fixed_image_paths[0], indexing='xyz', MR = False)\n",
    "moved_landmarks = get_moved_points(fixed_landmarks, displacement)\n",
    "df['evalX'] = [x[0] for x in moved_landmarks]\n",
    "df['evalY'] = [x[1] for x in moved_landmarks]\n",
    "df['evalZ'] = [x[2] for x in moved_landmarks]\n",
    "print(df.iloc[220])"
   ]
  },
  {
   "cell_type": "code",
   "execution_count": 190,
   "metadata": {},
   "outputs": [
    {
     "data": {
      "image/png": "[encoded data removed]",
      "text/plain": [
       "<Figure size 432x288 with 1 Axes>"
      ]
     },
     "metadata": {
      "needs_background": "light"
     },
     "output_type": "display_data"
    }
   ],
   "source": [
    "p1 = np.array([df['evalX'], df['evalY'], df['evalZ']])\n",
    "p2 = np.array([df['t1X'], df['t1Y'], df['t1Z']])\n",
    "squared_dist = np.sum((p1 - p2) ** 2, axis=0)\n",
    "df['dist'] = np.sqrt(squared_dist)\n",
    "dists = df.groupby(df['Region'])['dist'].sum() / df['Region'].value_counts()\n",
    "dists = dists.sort_values(ascending=False)\n",
    "ax = sns.barplot(y = df['Region'], x = df['dist'], order = dists.index[:10], errwidth = 0)\n",
    "plt.tight_layout()\n",
    "plt.show()\n"
   ]
  },
  {
   "cell_type": "code",
   "execution_count": 191,
   "metadata": {},
   "outputs": [
    {
     "data": {
      "text/plain": [
       "7.821152317961237"
      ]
     },
     "execution_count": 191,
     "metadata": {},
     "output_type": "execute_result"
    }
   ],
   "source": [
    "df['dist'].mean()"
   ]
  }
 ],
 "metadata": {
  "interpreter": {
   "hash": "c9debd726cb181d61f55789b752b213620e0e1fe4a35b9ad670b0d66a9542fcd"
  },
  "kernelspec": {
   "display_name": "Python 3.8.10 64-bit ('venv': venv)",
   "language": "python",
   "name": "python3"
  },
  "language_info": {
   "codemirror_mode": {
    "name": "ipython",
    "version": 3
   },
   "file_extension": ".py",
   "mimetype": "text/x-python",
   "name": "python",
   "nbconvert_exporter": "python",
   "pygments_lexer": "ipython3",
   "version": "3.8.10"
  },
  "orig_nbformat": 4
 },
 "nbformat": 4,
 "nbformat_minor": 2
}
