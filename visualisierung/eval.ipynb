{
 "cells": [
  {
   "cell_type": "code",
   "execution_count": 1,
   "metadata": {},
   "outputs": [],
   "source": [
    "import numpy as np\n",
    "import pickle\n",
    "import pandas as pd\n",
    "import seaborn as sns\n",
    "import matplotlib.pyplot as plt\n",
    "from TrainVoxelmorph import VoxelmorphTF\n",
    "#from trainPytorch import VoxelmorphTorch\n",
    "from DataHandler import DataHandler\n",
    "import SimpleITK as sitk\n",
    "import os\n",
    "import voxelmorph as vxm\n",
    "#import tensorflow as tf\n",
    "#import torch as th\n",
    "from DataHandler import DataHandler\n",
    "import pickle"
   ]
  },
  {
   "cell_type": "code",
   "execution_count": 2,
   "metadata": {},
   "outputs": [],
   "source": [
    "def get_moved_points(points: np.array, displacement: sitk.Image) -> np.array:\n",
    "    displacement_copy = displacement.__copy__()\n",
    "    displacement_transform = sitk.DisplacementFieldTransform(displacement_copy)\n",
    "    moved_points = [displacement_transform.TransformPoint(point) for point in points]\n",
    "    return moved_points\n",
    "\n",
    "def get_landmarks(fixed_image_path: str, indexing: str = 'zyx', continuous = False, preResample = False):\n",
    "    model_name = os.path.basename(fixed_image_path).replace('_atn_3.nrrd', '')\n",
    "    if preResample: \n",
    "        loaded_points = pickle.load(open(f'/home/cschellenberger/Documents/vectorPickles/{model_name}_vec_frame1_to_frame2.p', \"rb\"))\n",
    "        moving_landmarks = np.array([(float(loaded_points[idx]['1X']), float(loaded_points[idx]['1Y']), float(loaded_points[idx]['1Z'])) for (idx, _) in enumerate(loaded_points)])\n",
    "        fixed_landmarks = np.array([(float(loaded_points[idx]['2X']), float(loaded_points[idx]['2Y']), float(loaded_points[idx]['2Z'])) for (idx, _) in enumerate(loaded_points)])\n",
    "    else: \n",
    "        #if continuous: loaded_points = pickle.load(open(f'/home/cschellenberger/Documents/vectorPickles/CT_points_t1_t3_withRegion_Continuous/{model_name}_idx.p', \"rb\"))\n",
    "        if continuous: loaded_points = pickle.load(open(f'/home/cschellenberger/Documents/vectorPickles/CT_points_t1_t3_withRegion_Spacing2/{model_name}_idx.p', \"rb\"))\n",
    "        else: loaded_points = pickle.load(open(f'/home/cschellenberger/Documents/vectorPickles/CT_points_t1_t3_withRegion/{model_name}_idx.p', \"rb\"))\n",
    "        moving_landmarks = np.array(loaded_points['t1'])\n",
    "        fixed_landmarks = np.array(loaded_points['t3'])\n",
    "    regions = np.array(loaded_points['Region'])\n",
    "    if indexing == 'xzy':\n",
    "        # swap columns because numpy and vxm use zyx indexing and the data uses xyz indexing\n",
    "        moving_landmarks[:, [1, 2]] = moving_landmarks[:, [2, 1]]\n",
    "        fixed_landmarks[:, [1, 2]] = fixed_landmarks[:, [2, 1]]\n",
    "    elif indexing == 'zyx':\n",
    "        # swap columns because numpy and vxm use zyx indexing and the data uses xyz indexing\n",
    "        moving_landmarks[:, [0, 2]] = moving_landmarks[:, [2, 0]]\n",
    "        fixed_landmarks[:, [0, 2]] = fixed_landmarks[:, [2, 0]]\n",
    "    elif indexing == 'yxz':\n",
    "        # swap columns because numpy and vxm use zyx indexing and the data uses xyz indexing\n",
    "        moving_landmarks[:, [0, 1]] = moving_landmarks[:, [1, 0]]\n",
    "        fixed_landmarks[:, [0, 1]] = fixed_landmarks[:, [1, 0]]\n",
    "    else: assert indexing == 'xyz', f'indexing can only be xyz or zyx. Got: {indexing}'\n",
    "    return moving_landmarks.astype(np.float64), fixed_landmarks.astype(np.float64), regions\n",
    "\n",
    "def get_landmarks_unresampled(fixed_image_path: str, indexing: str = 'zyx'):\n",
    "    model_name = os.path.basename(fixed_image_path).replace('_atn_3.nrrd', '')\n",
    "    loaded_points = pickle.load(open(f'/home/cschellenberger/Documents/vectorPickles/{model_name}_vec_frame1_to_frame2.p', \"rb\"))\n",
    "    moving_landmarks = np.array([[p['1X'], p['1Y'], p['1Z']] for p in loaded_points])\n",
    "    fixed_landmarks = np.array([[p['2X'], p['2Y'], p['2Z']] for p in loaded_points])\n",
    "    regions = np.array(loaded_points['Region'])\n",
    "    if indexing == 'zyx':\n",
    "        # swap columns because numpy and vxm use zyx indexing and the data uses xyz indexing\n",
    "        moving_landmarks[:, [0, 2]] = moving_landmarks[:, [2, 0]]\n",
    "        fixed_landmarks[:, [0, 2]] = fixed_landmarks[:, [2, 0]]\n",
    "    if indexing == 'zxy':\n",
    "        # swap columns because numpy and vxm use zyx indexing and the data uses xyz indexing\n",
    "        moving_landmarks[:, [0, 1]] = moving_landmarks[:, [1, 0]]\n",
    "        fixed_landmarks[:, [0, 1]] = fixed_landmarks[:, [1, 0]]\n",
    "        moving_landmarks[:, [0, 2]] = moving_landmarks[:, [2, 0]]\n",
    "        fixed_landmarks[:, [0, 2]] = fixed_landmarks[:, [2, 0]]\n",
    "    elif indexing == 'yxz':\n",
    "        # swap columns because numpy and vxm use zyx indexing and the data uses xyz indexing\n",
    "        moving_landmarks[:, [0, 1]] = moving_landmarks[:, [1, 0]]\n",
    "        fixed_landmarks[:, [0, 1]] = fixed_landmarks[:, [1, 0]]\n",
    "    else: assert indexing == 'xyz', f'indexing can only be xyz or zyx. Got: {indexing}'\n",
    "    return moving_landmarks.astype(np.float64), fixed_landmarks.astype(np.float64), regions"
   ]
  },
  {
   "cell_type": "code",
   "execution_count": 3,
   "metadata": {},
   "outputs": [
    {
     "name": "stderr",
     "output_type": "stream",
     "text": [
      "2022-05-23 14:17:29.600941: I tensorflow/core/platform/cpu_feature_guard.cc:151] This TensorFlow binary is optimized with oneAPI Deep Neural Network Library (oneDNN) to use the following CPU instructions in performance-critical operations:  AVX2 AVX512F FMA\n",
      "To enable them in other operations, rebuild TensorFlow with the appropriate compiler flags.\n",
      "2022-05-23 14:17:33.445287: I tensorflow/core/common_runtime/gpu/gpu_process_state.cc:214] Using CUDA malloc Async allocator for GPU: 0\n",
      "2022-05-23 14:17:33.447012: I tensorflow/core/common_runtime/gpu/gpu_device.cc:1525] Created device /job:localhost/replica:0/task:0/device:GPU:0 with 45742 MB memory:  -> device: 0, name: Quadro RTX 8000, pci bus id: 0000:1d:00.0, compute capability: 7.5\n",
      "2022-05-23 14:17:33.450758: I tensorflow/core/common_runtime/gpu/gpu_process_state.cc:214] Using CUDA malloc Async allocator for GPU: 1\n",
      "2022-05-23 14:17:33.451983: I tensorflow/core/common_runtime/gpu/gpu_device.cc:1525] Created device /job:localhost/replica:0/task:0/device:GPU:1 with 47217 MB memory:  -> device: 1, name: Quadro RTX 8000, pci bus id: 0000:1e:00.0, compute capability: 7.5\n",
      "2022-05-23 14:17:33.453218: I tensorflow/core/common_runtime/gpu/gpu_process_state.cc:214] Using CUDA malloc Async allocator for GPU: 2\n",
      "2022-05-23 14:17:33.453702: I tensorflow/core/common_runtime/gpu/gpu_device.cc:1525] Created device /job:localhost/replica:0/task:0/device:GPU:2 with 18451 MB memory:  -> device: 2, name: NVIDIA TITAN RTX, pci bus id: 0000:40:00.0, compute capability: 7.5\n",
      "2022-05-23 14:17:33.454896: I tensorflow/core/common_runtime/gpu/gpu_process_state.cc:214] Using CUDA malloc Async allocator for GPU: 3\n",
      "2022-05-23 14:17:33.455403: I tensorflow/core/common_runtime/gpu/gpu_device.cc:1525] Created device /job:localhost/replica:0/task:0/device:GPU:3 with 22836 MB memory:  -> device: 3, name: NVIDIA TITAN RTX, pci bus id: 0000:41:00.0, compute capability: 7.5\n"
     ]
    }
   ],
   "source": [
    "idx = 0\n",
    "downSize = 1\n",
    "dh = DataHandler(val_images=12)\n",
    "weights_path = '/home/cschellenberger/Documents/scripts/models/synthetic/l10011000_st10_lr0_001_bat4/weights.h5'\n",
    "weights_path = '/home/cschellenberger/Documents/scripts/models/synthetic/intsteps4_secondTrain_1000_st10_lr0_0001_bat4/bestWeights.h5'\n",
    "#weights_path = '/home/cschellenberger/Documents/scripts/models/synthetic/l1l2Red500_st24_lr0_0002_bat4/bestWeights.h5'\n",
    "#weights_path = '/home/cschellenberger/Documents/scripts/models/synthetic/vxmth_NewNMIDataRight250_st11_lr0_001_bat4_final_lossnan/model.pt'\n",
    "weights_path = '/home/cschellenberger/Documents/scripts/models/synthetic/newT3_best_localmi_reg001_08_2nd_1000_st43_lr1e-05_bat1/bestWeights.h5'\n",
    "# dh.get_synthetic_data(\n",
    "#     fixed_path='/home/cschellenberger/datam2olie/synthetic/orig/t3/Synthetic_CT/',\n",
    "#     moving_path='/home/cschellenberger/datam2olie/synthetic/orig/t1/Synthetic_MR/')\n",
    "dh.get_synthetic_data(\n",
    "    fixed_path='/home/cschellenberger/Documents/newT3Resample',\n",
    "    moving_path='/home/cschellenberger/Documents/T1ResampledSpacing2')\n",
    "moving_image_paths = dh.x_val\n",
    "fixed_image_paths = dh.y_val\n",
    "moving_image = sitk.ReadImage(moving_image_paths[idx])\n",
    "#!!!! RANDOM IMAGE !!!!\n",
    "rand = np.random.rand(128, 256, 256)\n",
    "moving_image = sitk.GetImageFromArray(rand)\n",
    "## !!!! !!!!!!\n",
    "fixed_image = sitk.ReadImage(fixed_image_paths[idx])\n",
    "#moving_image = sitk.Cast(moving_image, sitk.sitkFloat32)\n",
    "#fixed_image = sitk.Cast(fixed_image, sitk.sitkFloat32)\n",
    "nb_features = [[16, 32, 32, 32], [32, 32, 32, 32, 32, 16, 16]]\n",
    "##nb_features = [[16, 16, 32, 32], [32, 32, 32, 16, 16]]\n",
    "#nb_features = [[16, 16, 32, 32], [32, 32, 16, 16]]\n",
    "device = '/cpu:0'\n",
    "imgReg = VoxelmorphTF(weights_path, fixed_image, nb_features, downSize)\n",
    "#imgReg = VoxelmorphTorch(weights_path, fixed_image, nb_features)\n",
    "moved_img, displacement_np, time = imgReg.register_images(moving_image, fixed_image, device)"
   ]
  },
  {
   "cell_type": "code",
   "execution_count": 5,
   "metadata": {},
   "outputs": [
    {
     "data": {
      "text/plain": [
       "(1, 128, 256, 256, 3)"
      ]
     },
     "execution_count": 5,
     "metadata": {},
     "output_type": "execute_result"
    }
   ],
   "source": [
    "displacement_np.shape"
   ]
  },
  {
   "cell_type": "code",
   "execution_count": 18,
   "metadata": {},
   "outputs": [
    {
     "name": "stdout",
     "output_type": "stream",
     "text": [
      "0.20833164308820562\n"
     ]
    }
   ],
   "source": [
    "mdis = 0\n",
    "for idx in range(1):\n",
    "    moving_image = sitk.ReadImage(moving_image_paths[idx])\n",
    "    fixed_image = sitk.ReadImage(fixed_image_paths[idx])\n",
    "    moving_image = sitk.Cast(moving_image, sitk.sitkFloat32)\n",
    "    fixed_image = sitk.Cast(fixed_image, sitk.sitkFloat32)\n",
    "    moving_landmarks, fixed_landmarks, regions = get_landmarks(fixed_image_paths[idx], indexing='xyz', continuous = True)\n",
    "    #!!!! RANDOM IMAGE !!!!\n",
    "    #rand = np.random.rand(128, 256, 256)\n",
    "    #moving_image = sitk.GetImageFromArray(rand)\n",
    "    ## !!!! !!!!!!\n",
    "    moved_image_np, displacement_np, time = imgReg.register_images(moving_image, fixed_image, device)\n",
    "    displacement = displacement_np.squeeze() * downSize\n",
    "    displacement[:,:,:,[0,2]] = displacement[:,:,:,[2,0]]\n",
    "    displacement = sitk.GetImageFromArray(displacement.astype(np.float64), isVector=True)\n",
    "    #displacement = sitk.GetImageFromArray(displacement_np.permute(0, 2, 3, 4, 1).squeeze().cpu().detach().numpy().astype(np.float64), isVector=True)\n",
    "    moved_landmarks = get_moved_points(fixed_landmarks, displacement)\n",
    "    df = pd.DataFrame()\n",
    "    moving_landmarks = np.transpose(moving_landmarks)\n",
    "    fixed_landmarks = np.transpose(fixed_landmarks)\n",
    "    moved_landmarks = np.transpose(moved_landmarks)\n",
    "    df['t1X'] = moving_landmarks[0]\n",
    "    df['t1Y'] = moving_landmarks[1]\n",
    "    df['t1Z'] = moving_landmarks[2]\n",
    "    df['t3X'] = fixed_landmarks[0]\n",
    "    df['t3Y'] = fixed_landmarks[1]\n",
    "    df['t3Z'] = fixed_landmarks[2]\n",
    "    df['Region'] = regions\n",
    "    df['evalX'] = moved_landmarks[0]\n",
    "    df['evalY'] = moved_landmarks[1]\n",
    "    df['evalZ'] = moved_landmarks[2]\n",
    "    p1 = np.array([df['evalX'], df['evalY'], df['evalZ']])\n",
    "    p2 = np.array([df['t1X'], df['t1Y'], df['t1Z']])\n",
    "    p3 = np.array([df['t3X'], df['t3Y'], df['t3Z']])\n",
    "    squared_dist = np.sum((p1 - p2) ** 2, axis=0)\n",
    "    squared_dist_prereg = np.sum((p2 - p3) ** 2, axis=0)\n",
    "    df['dist'] = np.sqrt(squared_dist)\n",
    "    df['pre_dist'] = np.sqrt(squared_dist_prereg)\n",
    "    dists = df.groupby(df['Region'])['dist'].sum() / df['Region'].value_counts()\n",
    "    mdis += df['dist'].mean()\n",
    "    #pickle.dump(df, open(f\"./results/vxmLuca/{idx}.p\", \"wb\"))\n",
    "print(mdis / len(dh.x_val))"
   ]
  },
  {
   "cell_type": "code",
   "execution_count": 19,
   "metadata": {},
   "outputs": [
    {
     "data": {
      "text/plain": [
       "2.4999797170584674"
      ]
     },
     "execution_count": 19,
     "metadata": {},
     "output_type": "execute_result"
    }
   ],
   "source": [
    "mdis"
   ]
  },
  {
   "cell_type": "code",
   "execution_count": 21,
   "metadata": {},
   "outputs": [
    {
     "name": "stdout",
     "output_type": "stream",
     "text": [
      "Region\n",
      "known_vector_liver                   1.670021\n",
      "known_vector_liver_veins_sup_port    1.435394\n",
      "known_vector_liver_veins_hep         1.328974\n",
      "known_vector_liver_veins_port        0.944214\n",
      "Name: dist, dtype: float64\n"
     ]
    }
   ],
   "source": [
    "dis = df['dist'].groupby(df['Region']).mean().sort_values(ascending=False)\n",
    "print(dis[dis.index.str.contains('liver')])"
   ]
  },
  {
   "cell_type": "code",
   "execution_count": null,
   "metadata": {},
   "outputs": [],
   "source": [
    "#luca vmxtf random moving: 15.27717557899466\n",
    "#nmi: 18.554778350471803\n",
    "# 9.787027798411502"
   ]
  },
  {
   "cell_type": "code",
   "execution_count": 17,
   "metadata": {},
   "outputs": [
    {
     "data": {
      "image/png": "[encoded data removed]",
      "text/plain": [
       "<Figure size 432x288 with 1 Axes>"
      ]
     },
     "metadata": {
      "needs_background": "light"
     },
     "output_type": "display_data"
    },
    {
     "name": "stdout",
     "output_type": "stream",
     "text": [
      "8.251202848535732\n"
     ]
    },
    {
     "data": {
      "image/png": "[encoded data removed]",
      "text/plain": [
       "<Figure size 432x288 with 1 Axes>"
      ]
     },
     "metadata": {
      "needs_background": "light"
     },
     "output_type": "display_data"
    },
    {
     "name": "stdout",
     "output_type": "stream",
     "text": [
      "9.542211390422496\n"
     ]
    },
    {
     "data": {
      "image/png": "[encoded data removed]",
      "text/plain": [
       "<Figure size 432x288 with 1 Axes>"
      ]
     },
     "metadata": {
      "needs_background": "light"
     },
     "output_type": "display_data"
    },
    {
     "name": "stdout",
     "output_type": "stream",
     "text": [
      "8.79269108012527\n"
     ]
    }
   ],
   "source": [
    "for model in [\"vxmTf\", \"vxmTh\", \"vxmLuca\"]:\n",
    "    resDf = pickle.load(open(f\"./results/{model}/{0}.p\", \"rb\"))\n",
    "    for idx in range(1, 12):\n",
    "        df = pickle.load(open(f\"./results/{model}/{idx}.p\", \"rb\"))\n",
    "        resDf['dist'] += df['dist']\n",
    "    resDf['dist'] /= 12\n",
    "    p1 = np.array([resDf['t3X'], resDf['t3Y'], resDf['t3Z']])\n",
    "    p2 = np.array([resDf['t1X'], resDf['t1Y'], resDf['t1Z']])\n",
    "    squared_dist = np.sum((p1 - p2) ** 2, axis=0)\n",
    "    resDf['TREUB'] = np.sqrt(squared_dist)\n",
    "    tidy = pd.DataFrame()\n",
    "    tidy['Region'] = resDf['Region']\n",
    "    tidy['TREUB'] = resDf['TREUB']\n",
    "    tidy['dist'] = resDf['dist']\n",
    "    tidy = tidy.melt(id_vars='Region').rename(columns=str.title)\n",
    "    dists = resDf.groupby(resDf['Region'])['TREUB'].sum() / resDf['Region'].value_counts()\n",
    "    dists = dists.sort_values(ascending=False)\n",
    "    ax = sns.barplot(x = 'Value', y = 'Region', hue = 'Variable', data = tidy, order = dists.index[:10], errwidth = 0)\n",
    "    plt.tight_layout()\n",
    "    plt.show()\n",
    "    print(resDf['dist'].mean())"
   ]
  },
  {
   "cell_type": "code",
   "execution_count": 18,
   "metadata": {},
   "outputs": [
    {
     "name": "stdout",
     "output_type": "stream",
     "text": [
      "9.787027798411502\n"
     ]
    }
   ],
   "source": [
    "print(resDf['TREUB'].mean())"
   ]
  },
  {
   "cell_type": "code",
   "execution_count": null,
   "metadata": {},
   "outputs": [],
   "source": [
    "p1 = np.array([df['evalX'], df['evalY'], df['evalZ']])\n",
    "p2 = np.array([df['t1X'], df['t1Y'], df['t1Z']])\n",
    "squared_dist = np.sum((p1 - p2) ** 2, axis=0)\n",
    "df['dist'] = np.sqrt(squared_dist)\n",
    "dists = df.groupby(df['Region'])['dist'].sum() / df['Region'].value_counts()\n",
    "dists = dists.sort_values(ascending=False)\n",
    "ax = sns.barplot(y = df['Region'], x = df['dist'], order = dists.index[:10], errwidth = 0)\n",
    "plt.tight_layout()\n",
    "plt.show()"
   ]
  },
  {
   "cell_type": "code",
   "execution_count": null,
   "metadata": {},
   "outputs": [],
   "source": [
    "moving_image_paths = dh.x_val\n",
    "fixed_image_paths = dh.y_val\n",
    "mean = 0\n",
    "for i in range(len(moving_image_paths)):       \n",
    "        moving_image = sitk.ReadImage(moving_image_paths[i])\n",
    "        fixed_image = sitk.ReadImage(fixed_image_paths[i])\n",
    "        moving_image = sitk.Cast(moving_image, sitk.sitkFloat32)\n",
    "        fixed_image = sitk.Cast(fixed_image, sitk.sitkFloat32)\n",
    "        moved_image_np, displacement_np, time = framework.register_images(\n",
    "                fixed_image=fixed_image,\n",
    "                moving_image=moving_image,\n",
    "                weights_path=model_path,\n",
    "                nb_features=nb_features)\n",
    "        displacement = displacement_np.squeeze()\n",
    "        displacement[:,:,:,[0,2]] = displacement[:,:,:,[2,0]]\n",
    "        #displacement = 1.8 * displacement\n",
    "        moved_image = moved_image_np.squeeze()\n",
    "        moved_image = sitk.GetImageFromArray(moved_image)\n",
    "        displacement = sitk.GetImageFromArray(displacement, isVector=True)\n",
    "        displacement.SetSpacing(fixed_image.GetSpacing())\n",
    "        displacement.SetOrigin(fixed_image.GetOrigin())\n",
    "        displacement.SetDirection(fixed_image.GetDirection())\n",
    "        moved_image.SetSpacing(fixed_image.GetSpacing())\n",
    "        moved_image.SetOrigin(fixed_image.GetOrigin())\n",
    "        moved_image.SetDirection(fixed_image.GetDirection())\n",
    "        try: moving_landmarks, fixed_landmarks, regions = get_landmarks(fixed_image_paths[i], indexing='xyz', MR = False)\n",
    "        except: pass\n",
    "        moved_landmarks = get_moved_points(fixed_landmarks, displacement)\n",
    "        df = pd.DataFrame()\n",
    "        df['t1X'] = [x[0] for x in moving_landmarks]\n",
    "        df['t1Y'] = [x[1] for x in moving_landmarks]\n",
    "        df['t1Z'] = [x[2] for x in moving_landmarks]\n",
    "        df['t3X'] = [x[0] for x in fixed_landmarks]\n",
    "        df['t3Y'] = [x[1] for x in fixed_landmarks]\n",
    "        df['t3Z'] = [x[2] for x in fixed_landmarks]\n",
    "        df['Region'] = regions\n",
    "        df['evalX'] = [x[0] for x in moved_landmarks]\n",
    "        df['evalY'] = [x[1] for x in moved_landmarks]\n",
    "        df['evalZ'] = [x[2] for x in moved_landmarks]\n",
    "        p1 = np.array([df['evalX'], df['evalY'], df['evalZ']])\n",
    "        p2 = np.array([df['t1X'], df['t1Y'], df['t1Z']])\n",
    "        squared_dist = np.sum((p1 - p2) ** 2, axis=0)\n",
    "        df['dist'] = np.sqrt(squared_dist)\n",
    "        dists = df.groupby(df['Region'])['dist'].sum() / df['Region'].value_counts()\n",
    "        mean += df['dist'].mean()"
   ]
  },
  {
   "cell_type": "code",
   "execution_count": null,
   "metadata": {},
   "outputs": [],
   "source": [
    "print(mean / len(moving_image_paths))"
   ]
  },
  {
   "cell_type": "code",
   "execution_count": null,
   "metadata": {},
   "outputs": [],
   "source": [
    "nmean = 0\n",
    "for i in range(len(moving_image_paths)):       \n",
    "        try: moving_landmarks, fixed_landmarks, regions = get_landmarks(fixed_image_paths[i], indexing='xyz', MR = False)\n",
    "        except: pass\n",
    "        df = pd.DataFrame()\n",
    "        df['t1X'] = [x[0] for x in moving_landmarks]\n",
    "        df['t1Y'] = [x[1] for x in moving_landmarks]\n",
    "        df['t1Z'] = [x[2] for x in moving_landmarks]\n",
    "        df['t3X'] = [x[0] for x in fixed_landmarks]\n",
    "        df['t3Y'] = [x[1] for x in fixed_landmarks]\n",
    "        df['t3Z'] = [x[2] for x in fixed_landmarks]\n",
    "        p1 = np.array([df['t1X'], df['t1Y'], df['t1Z']])\n",
    "        p2 = np.array([df['t3X'], df['t3Y'], df['t3Z']])\n",
    "        squared_dist = np.sum((p1 - p2) ** 2, axis=0)\n",
    "        df['dist'] = np.sqrt(squared_dist)\n",
    "        nmean += df['dist'].mean()"
   ]
  },
  {
   "cell_type": "code",
   "execution_count": 45,
   "metadata": {},
   "outputs": [],
   "source": [
    "# *1.8\n",
    "def get_moved_image(image: sitk.Image, displacement: sitk.Image) -> np.array:\n",
    "    resampler = sitk.ResampleImageFilter()\n",
    "    #displacement_copy = displacement.__copy__()\n",
    "    #displacement_copy = displacement_copy * 1.8\n",
    "    displacement_transform = sitk.DisplacementFieldTransform(sitk.Cast(displacement, sitk.sitkVectorFloat64))\n",
    "    ##ref übergeben\n",
    "    resampler.SetReferenceImage(image)\n",
    "    resampler.SetTransform(displacement_transform)\n",
    "    return resampler.Execute(image)"
   ]
  },
  {
   "cell_type": "code",
   "execution_count": 48,
   "metadata": {},
   "outputs": [
    {
     "name": "stdout",
     "output_type": "stream",
     "text": [
      "You can find your images @  http://141.19.142.80:8899\n",
      "\n"
     ]
    }
   ],
   "source": [
    "from pyM2aia import M2aiaOnlineHelper\n",
    "fixedDisp = get_moved_image(fixed_image, displacement)\n",
    "movingDisp = get_moved_image(moving_image, displacement)\n",
    "M2aiaHelper = M2aiaOnlineHelper(\"ipynbViewer\", \"jtfc.de:5050/m2aia/m2aia-no-vnc:with_exit\", \"8899\")\n",
    "with M2aiaHelper as helper:\n",
    "    helper.show({\"moved\": moved_img, \"fixedDisp\": fixedDisp, \"movingDisp\": movingDisp, \"fixed\": fixed_image, \"moving\": moving_image})"
   ]
  },
  {
   "cell_type": "code",
   "execution_count": 47,
   "metadata": {},
   "outputs": [],
   "source": [
    "displacement = displacement_np.squeeze()\n",
    "#displacement[:,:,:,[0,2]] = displacement[:,:,:,[2,0]]\n",
    "#displacement = 1.8 * displacement\n",
    "displacement = sitk.GetImageFromArray(displacement, isVector=True)\n",
    "displacement.SetSpacing(fixed_image.GetSpacing())\n",
    "displacement.SetOrigin(fixed_image.GetOrigin())"
   ]
  }
 ],
 "metadata": {
  "interpreter": {
   "hash": "c9debd726cb181d61f55789b752b213620e0e1fe4a35b9ad670b0d66a9542fcd"
  },
  "kernelspec": {
   "display_name": "Python 3.8.10 64-bit ('venv': venv)",
   "language": "python",
   "name": "python3"
  },
  "language_info": {
   "codemirror_mode": {
    "name": "ipython",
    "version": 3
   },
   "file_extension": ".py",
   "mimetype": "text/x-python",
   "name": "python",
   "nbconvert_exporter": "python",
   "pygments_lexer": "ipython3",
   "version": "3.8.10"
  },
  "orig_nbformat": 4
 },
 "nbformat": 4,
 "nbformat_minor": 2
}
