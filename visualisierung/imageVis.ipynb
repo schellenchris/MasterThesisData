{
 "cells": [
  {
   "cell_type": "code",
   "execution_count": 1,
   "metadata": {},
   "outputs": [],
   "source": [
    "from DataHandler import DataHandler\n",
    "import SimpleITK as sitk\n",
    "from pyM2aia import M2aiaOnlineHelper\n",
    "from matplotlib.pyplot import imsave\n",
    "import matplotlib.cm as cm\n",
    "import numpy as np"
   ]
  },
  {
   "cell_type": "code",
   "execution_count": 4,
   "metadata": {},
   "outputs": [],
   "source": [
    "dh = DataHandler(val_images=12)\n",
    "# dh.get_synthetic_data(\n",
    "#     fixed_path='/home/cschellenberger/Documents/newT3Resample1_8',\n",
    "#     moving_path='/home/cschellenberger/datam2olie/synthetic/orig/t1/Synthetic_MR/')\n",
    "dh.get_synthetic_data(\n",
    "    fixed_path='/home/cschellenberger/datam2olie/synthetic/native/t3/Synthetic_CT/',\n",
    "    moving_path='/home/cschellenberger/datam2olie/synthetic/native/t1/Synthetic_MR/')\n",
    "moving_image_paths = dh.x_val\n",
    "fixed_image_paths = dh.y_val\n",
    "images = {}\n",
    "for idx in range(4):\n",
    "    moving_image = sitk.GetArrayFromImage(sitk.ReadImage(moving_image_paths[idx]))[35, :, :]\n",
    "    fixed_image = sitk.GetArrayFromImage(sitk.ReadImage(fixed_image_paths[idx]))[35, :, :]\n",
    "    imsave(f'./ValImgOrig/nativeMoving{idx}.jpg', np.flip(moving_image, 0), cmap=cm.gray)\n",
    "    imsave(f'./ValImgOrig/nativeFixed{idx}.jpg', np.flip(fixed_image, 0), cmap=cm.gray)\n"
   ]
  },
  {
   "cell_type": "code",
   "execution_count": 65,
   "metadata": {},
   "outputs": [],
   "source": [
    "moving_image = sitk.ReadImage('../../newT3preResample/CT_Model106_Energy110_atn_3.nrrd')"
   ]
  },
  {
   "cell_type": "code",
   "execution_count": 66,
   "metadata": {},
   "outputs": [
    {
     "name": "stdout",
     "output_type": "stream",
     "text": [
      "You can find your images @  http://141.19.142.80:8898\n",
      "\n"
     ]
    }
   ],
   "source": [
    "M2aiaHelper = M2aiaOnlineHelper(\"ipynbViewer\", \"jtfc.de:5050/m2aia/m2aia-no-vnc:with_exit\", \"8898\")\n",
    "with M2aiaHelper as helper:\n",
    "    helper.show({'m': moving_image})"
   ]
  }
 ],
 "metadata": {
  "interpreter": {
   "hash": "c9debd726cb181d61f55789b752b213620e0e1fe4a35b9ad670b0d66a9542fcd"
  },
  "kernelspec": {
   "display_name": "Python 3.8.10 64-bit ('venv': venv)",
   "language": "python",
   "name": "python3"
  },
  "language_info": {
   "codemirror_mode": {
    "name": "ipython",
    "version": 3
   },
   "file_extension": ".py",
   "mimetype": "text/x-python",
   "name": "python",
   "nbconvert_exporter": "python",
   "pygments_lexer": "ipython3",
   "version": "3.8.10"
  },
  "orig_nbformat": 4
 },
 "nbformat": 4,
 "nbformat_minor": 2
}
