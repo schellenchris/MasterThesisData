{
 "cells": [
  {
   "cell_type": "code",
   "execution_count": 1,
   "metadata": {},
   "outputs": [],
   "source": [
    "import numpy as np\n",
    "import pickle\n",
    "from TrainVoxelmorph import VoxelmorphTF\n",
    "#from trainPytorch import VoxelmorphTorch\n",
    "from DataHandler import DataHandler\n",
    "import SimpleITK as sitk\n",
    "import os\n",
    "#import tensorflow as tf\n",
    "#import torch as th\n",
    "from DataHandler import DataHandler\n",
    "import pickle\n",
    "import pandas as pd\n",
    "import seaborn as sns\n",
    "import matplotlib.pyplot as plt\n",
    "import pickle"
   ]
  },
  {
   "cell_type": "code",
   "execution_count": 16,
   "metadata": {},
   "outputs": [],
   "source": [
    "dataSet = 'native'\n",
    "dhCT = DataHandler(val_images=12)\n",
    "dhCT.get_synthetic_data(\n",
    "    fixed_path=f'/home/cschellenberger/datam2olie/synthetic/{dataSet}/t3/Synthetic_CT/',\n",
    "    moving_path=f'/home/cschellenberger/datam2olie/synthetic/{dataSet}/t1/Synthetic_CT/')\n",
    "dhMR = DataHandler(val_images=12)\n",
    "dhMR.get_synthetic_data(\n",
    "    fixed_path=f'/home/cschellenberger/datam2olie/synthetic/{dataSet}/t3/Synthetic_CT/',\n",
    "    moving_path=f'/home/cschellenberger/datam2olie/synthetic/{dataSet}/t1/Synthetic_MR/')\n",
    "moving_image_paths_MR = dhMR.x_val\n",
    "fixed_image_paths_MR = dhMR.y_val\n",
    "moving_image_paths_CT = dhCT.x_val\n",
    "fixed_image_paths_CT = dhCT.y_val\n",
    "for idx in range(1):\n",
    "    fixed_image = sitk.ReadImage(fixed_image_paths_MR[idx])\n",
    "    moving_image_MR = sitk.ReadImage(moving_image_paths_MR[idx])\n",
    "    moving_image_CT = sitk.ReadImage(moving_image_paths_CT[idx])\n",
    "    moving_image_MR.SetSpacing(fixed_image.GetSpacing())\n",
    "    moving_image_CT.SetSpacing(fixed_image.GetSpacing())\n",
    "    moving_image_MR.SetOrigin(fixed_image.GetOrigin())\n",
    "    moving_image_CT.SetOrigin(fixed_image.GetOrigin())\n",
    "    #print(fixed_image.GetOrigin())\n",
    "    #print(moving_image.GetOrigin())"
   ]
  },
  {
   "cell_type": "code",
   "execution_count": 3,
   "metadata": {},
   "outputs": [
    {
     "name": "stdout",
     "output_type": "stream",
     "text": [
      "You can find your images @  http://141.19.142.80:8899\n",
      "\n"
     ]
    }
   ],
   "source": [
    "from pyM2aia import M2aiaOnlineHelper\n",
    "M2aiaHelper = M2aiaOnlineHelper(\"ipynbViewer\", \"jtfc.de:5050/m2aia/m2aia-no-vnc:with_exit\", \"8899\")\n",
    "with M2aiaHelper as helper:\n",
    "    helper.show({\"Moving_MR\": moving_image_MR, \"Moving_CT\": moving_image_CT, \"Fixed\": fixed_image})"
   ]
  },
  {
   "cell_type": "code",
   "execution_count": 2,
   "metadata": {},
   "outputs": [],
   "source": [
    "def get_moved_points(points: np.array, displacement: sitk.Image) -> np.array:\n",
    "    displacement_copy = displacement.__copy__()\n",
    "    displacement_transform = sitk.DisplacementFieldTransform(displacement_copy)\n",
    "    moved_points = [displacement_transform.TransformPoint(point) for point in points]\n",
    "    return moved_points\n",
    "\n",
    "def get_landmarks(fixed_image_path: str, indexing: str = 'zyx', preResample = False):\n",
    "    model_name = os.path.basename(fixed_image_path).replace('_atn_3.nrrd', '')\n",
    "    if preResample: \n",
    "        loaded_points = pickle.load(open(f'/home/cschellenberger/Documents/vectorPickles/{model_name}_vec_frame1_to_frame2.p', \"rb\"))\n",
    "        moving_landmarks = np.array([(float(loaded_points[idx]['1X']), float(loaded_points[idx]['1Y']), float(loaded_points[idx]['1Z'] * 2)) for (idx, _) in enumerate(loaded_points)])\n",
    "        fixed_landmarks = np.array([(float(loaded_points[idx]['2X']), float(loaded_points[idx]['2Y']), float(loaded_points[idx]['2Z'] * 2)) for (idx, _) in enumerate(loaded_points)])\n",
    "    else: \n",
    "        loaded_points = pickle.load(open(f'/home/cschellenberger/Documents/vectorPickles/CT_points_t1_t3_withRegion/{model_name}_idx.p', \"rb\"))\n",
    "        moving_landmarks = np.array(loaded_points['t1'])\n",
    "        fixed_landmarks = np.array(loaded_points['t3'])\n",
    "    regions = np.array(loaded_points['Region'])\n",
    "    if indexing == 'xzy':\n",
    "        # swap columns because numpy and vxm use zyx indexing and the data uses xyz indexing\n",
    "        moving_landmarks[:, [1, 2]] = moving_landmarks[:, [2, 1]]\n",
    "        fixed_landmarks[:, [1, 2]] = fixed_landmarks[:, [2, 1]]\n",
    "    elif indexing == 'zyx':\n",
    "        # swap columns because numpy and vxm use zyx indexing and the data uses xyz indexing\n",
    "        moving_landmarks[:, [0, 2]] = moving_landmarks[:, [2, 0]]\n",
    "        fixed_landmarks[:, [0, 2]] = fixed_landmarks[:, [2, 0]]\n",
    "    elif indexing == 'yxz':\n",
    "        # swap columns because numpy and vxm use zyx indexing and the data uses xyz indexing\n",
    "        moving_landmarks[:, [0, 1]] = moving_landmarks[:, [1, 0]]\n",
    "        fixed_landmarks[:, [0, 1]] = fixed_landmarks[:, [1, 0]]\n",
    "    else: assert indexing == 'xyz', f'indexing can only be xyz or zyx. Got: {indexing}'\n",
    "    return moving_landmarks.astype(np.float64), fixed_landmarks.astype(np.float64), regions"
   ]
  },
  {
   "cell_type": "code",
   "execution_count": 4,
   "metadata": {},
   "outputs": [],
   "source": [
    "dh = DataHandler(val_images=12)\n",
    "dh.get_synthetic_data(\n",
    "    fixed_path='/home/cschellenberger/datam2olie/synthetic/orig/t3/Synthetic_CT/',\n",
    "    moving_path='/home/cschellenberger/datam2olie/synthetic/orig/t1/Synthetic_MR/')\n",
    "idx = 0\n",
    "moving_image_paths = dh.x_val\n",
    "fixed_image_paths = dh.y_val\n",
    "livers = {}\n",
    "for idx in range(1):\n",
    "    fixed_image = sitk.ReadImage(fixed_image_paths[idx])\n",
    "    moving_image = sitk.ReadImage(moving_image_paths[idx])\n",
    "    moving_landmarks, fixed_landmarks, regions = get_landmarks(fixed_image_paths[idx], indexing='xyz', preResample= False)\n",
    "    err = moving_landmarks - fixed_landmarks\n",
    "    err = err * 1.8\n",
    "    err = np.linalg.norm(err, axis = 1)\n",
    "    err = [err[i] for i in range(len(err)) if 'liver' in regions[i]]\n"
   ]
  },
  {
   "cell_type": "code",
   "execution_count": 5,
   "metadata": {},
   "outputs": [],
   "source": [
    "dh = DataHandler(val_images=12)\n",
    "dh.get_synthetic_data(\n",
    "    fixed_path='/home/cschellenberger/Documents/newT3Resample1_8',\n",
    "    moving_path='/home/cschellenberger/Documents/T1ResampledSpacing1_8')\n",
    "i = 0\n",
    "moving_image_paths = dh.x_val\n",
    "fixed_image_paths = dh.y_val\n",
    "livers = {}\n",
    "for i in range(1):\n",
    "    fixed_image = sitk.ReadImage(fixed_image_paths[i])\n",
    "    moving_image = sitk.ReadImage(moving_image_paths[i])\n",
    "    moving_landmarks, fixed_landmarks, regions = get_landmarks(fixed_image_paths[i], indexing='xyz')\n",
    "    liver = [0 if regions[idx] != 'known_vector_liver' else 1 for idx in range(len(fixed_landmarks))]\n",
    "    liver_fixed = sitk.Image(fixed_image.GetSize(), sitk.sitkInt32)\n",
    "    liver_fixed.SetOrigin(fixed_image.GetOrigin())\n",
    "    liver_fixed.SetSpacing(fixed_image.GetSpacing())\n",
    "    liver_moving = sitk.Image(fixed_image.GetSize(), sitk.sitkInt32)\n",
    "    liver_moving.SetOrigin(fixed_image.GetOrigin())\n",
    "    liver_moving.SetSpacing(fixed_image.GetSpacing())\n",
    "    for idx, point in enumerate(fixed_landmarks):\n",
    "        try: liver_fixed.SetPixel(int(point[0]), int(point[1]), int(point[2]), liver[idx])\n",
    "        except: continue\n",
    "    for idx, point in enumerate(moving_landmarks):\n",
    "        try: liver_moving.SetPixel(int(point[0]), int(point[1]), int(point[2]), liver[idx])\n",
    "        except: continue\n",
    "    weights_path = '/home/cschellenberger/Documents/scripts/models/synthetic/newT3_best_localmi_reg001_08_1000_st43_lr3e-05_bat1/bestWeights.h5'\n",
    "    device = '/cpu:0'\n",
    "    nb_features = [[16, 32, 32, 32], [32, 32, 32, 32, 32, 16, 16]]\n",
    "    imgReg = VoxelmorphTF(weights_path, fixed_image, nb_features, 1)\n",
    "    moved_img, displacement_np, time = imgReg.register_images(moving_image, fixed_image, device)\n",
    "    displacement = displacement_np.squeeze() * 1.8\n",
    "    displacement[:,:,:,[0,2]] = displacement[:,:,:,[2,0]]\n",
    "    displacement = sitk.GetImageFromArray(displacement.astype(np.float64), isVector=True)\n",
    "    #displacement.SetOrigin(fixed_image.GetOrigin())\n",
    "    #displacement.SetSpacing(fixed_image.GetSpacing())\n",
    "    moved_landmarks = get_moved_points(fixed_landmarks, displacement)\n",
    "    liver = [0 if regions[idx] != 'known_vector_liver' else 1 for idx in range(len(moved_landmarks))]\n",
    "    liver_moved = sitk.Image(fixed_image.GetSize(), sitk.sitkInt32)\n",
    "    for idx, point in enumerate(moved_landmarks):\n",
    "        try: liver_moved.SetPixel(int(point[0]), int(point[1]), int(point[2]), liver[idx])\n",
    "        except: continue\n",
    "    liver_moved.SetOrigin(fixed_image.GetOrigin())\n",
    "    liver_moved.SetSpacing(fixed_image.GetSpacing())\n",
    "    livers[f'liver_fixed{i}'] = liver_fixed\n",
    "    livers[f'liver_moving{i}'] = liver_moving\n",
    "    livers[f'fixed{i}'] = fixed_image\n",
    "    livers[f'moving{i}'] = moving_image\n",
    "    livers[f'moved{i}'] = moved_img\n",
    "    livers[f'liver_moved{i}'] = liver_moved\n",
    "#pickle.dump(livers, open(\"./liverSegments.p\", \"wb\"))"
   ]
  },
  {
   "cell_type": "code",
   "execution_count": 40,
   "metadata": {},
   "outputs": [
    {
     "name": "stdout",
     "output_type": "stream",
     "text": [
      "8.724669438701286\n"
     ]
    }
   ],
   "source": [
    "err = moving_landmarks - moved_landmarks\n",
    "err = np.linalg.norm(err, axis = 1)\n",
    "print(err.mean())"
   ]
  },
  {
   "cell_type": "code",
   "execution_count": 43,
   "metadata": {},
   "outputs": [],
   "source": [
    "bdi = sitk.BinaryDilateImageFilter()\n",
    "bdi.SetForegroundValue(1)\n",
    "livers['movedbdi'] = bdi.Execute(liver_moved)\n",
    "livers['fixedbdi'] = bdi.Execute(liver_fixed)\n",
    "livers['movingbdi'] = bdi.Execute(liver_moving)"
   ]
  },
  {
   "cell_type": "code",
   "execution_count": 7,
   "metadata": {},
   "outputs": [
    {
     "name": "stdout",
     "output_type": "stream",
     "text": [
      "You can find your images @  http://141.19.142.80:8899\n",
      "\n"
     ]
    }
   ],
   "source": [
    "from pyM2aia import M2aiaOnlineHelper\n",
    "#livers = pickle.load(open(\"./liverSegments.p\", \"rb\"))\n",
    "M2aiaHelper = M2aiaOnlineHelper(\"ipynbViewer\", \"jtfc.de:5050/m2aia/m2aia-no-vnc:with_exit\", \"8899\")\n",
    "with M2aiaHelper as helper:\n",
    "    helper.show(livers)"
   ]
  }
 ],
 "metadata": {
  "interpreter": {
   "hash": "c9debd726cb181d61f55789b752b213620e0e1fe4a35b9ad670b0d66a9542fcd"
  },
  "kernelspec": {
   "display_name": "Python 3.8.10 64-bit ('venv': venv)",
   "language": "python",
   "name": "python3"
  },
  "language_info": {
   "codemirror_mode": {
    "name": "ipython",
    "version": 3
   },
   "file_extension": ".py",
   "mimetype": "text/x-python",
   "name": "python",
   "nbconvert_exporter": "python",
   "pygments_lexer": "ipython3",
   "version": "3.8.10"
  },
  "orig_nbformat": 4
 },
 "nbformat": 4,
 "nbformat_minor": 2
}
