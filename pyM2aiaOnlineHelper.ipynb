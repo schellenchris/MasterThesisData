{
 "cells": [
  {
   "cell_type": "code",
   "execution_count": 1,
   "metadata": {},
   "outputs": [],
   "source": [
    "from pyM2aia import M2aiaOnlineHelper\n",
    "import SimpleITK as sitk\n",
    "import numpy as np\n",
    "from typing import Tuple, Any"
   ]
  },
  {
   "cell_type": "code",
   "execution_count": 3,
   "metadata": {},
   "outputs": [
    {
     "name": "stdout",
     "output_type": "stream",
     "text": [
      "(195, 179, 6)\n",
      "You can find your images @  http://141.19.142.80:8899\n",
      "\n"
     ]
    }
   ],
   "source": [
    "ctImg = sitk.ReadImage(\"/home/cschellenberger/datam2olie/Learn2Reg/Train/img0002_tcia_CT.nii\")\n",
    "mrImg = sitk.ReadImage(\"/home/cschellenberger/datam2olie/Learn2Reg/Train/img0002_tcia_MR.nii\")\n",
    "testImg = sitk.ReadImage(\"/home/cschellenberger/datam2olie/synthetic/orig/t3/Synthetic_MR/MR_Model71_Energy100_act_3.nrrd\")\n",
    "ctTestImg = sitk.ReadImage(\"/home/cschellenberger/datam2olie/synthetic/orig/t3/Synthetic_CT/CT_Model71_Energy90_atn_3.nrrd\")\n",
    "L2RCTresampled = sitk.ReadImage(\"/home/cschellenberger/Documents/L2R_Resampled/L2R_Task1_CT/img_01_logM_iso_CT.nii\")\n",
    "L2RMRresampled = sitk.ReadImage(\"/home/cschellenberger/Documents/L2R_Resampled/L2R_Task1_MR/img_1_logM_chaos_MR.nii\")\n",
    "M2aiaHelper = M2aiaOnlineHelper(\"ipynbViewer\", \"jtfc.de:5050/m2aia/m2aia-no-vnc:with_exit\", \"8899\")\n",
    "\n",
    "#ctImg: sitk.Image = sitk.ScalarToRGBColormap(ctImg, sitk.ScalarToRGBColormapImageFilter.Jet)\n",
    "#mrImg: sitk.Image = sitk.ScalarToRGBColormap(mrImg, sitk.ScalarToRGBColormapImageFilter.Jet)\n",
    "\n",
    "#rgbImage = -rgbImage\n",
    "minMaxFilter = sitk.MinimumMaximumImageFilter()\n",
    "minMaxFilter.Execute(testImg)  \n",
    "maxPixel = minMaxFilter.GetMaximum() * 2\n",
    "minMaxFilter.Execute(ctTestImg)  \n",
    "maxPixel2 = minMaxFilter.GetMaximum() * 2\n",
    "# for img in [ctImg, mrImg]:\n",
    "#     minMaxFilter.Execute(img)\n",
    "#     maxPixel = minMaxFilter.GetMaximum() * 2\n",
    "#     for i in range(3): \n",
    "#        for j in range(3): \n",
    "#            img.SetPixel(256, 251 + i, 48 + j, maxPixel)\n",
    "#            img.SetPixel(256, 254 + i, 48 + j, maxPixel)\n",
    "#            img.SetPixel(256, 257 + i, 48 + j, maxPixel)\n",
    "\n",
    "#p = ctTestImg.TransformIndexToPhysicalPoint((195, 179, 6))\n",
    "idx = (195, 179, 6)\n",
    "idx2 = (160, 70, 0)\n",
    "for i in range(3): \n",
    "    for j in range(3): \n",
    "        for k in range(3):\n",
    "            ctTestImg.SetPixel(idx[0] + k, idx[1] + i, idx[2] + j, maxPixel2)\n",
    "            testImg.SetPixel(idx2[0] + k, idx2[1] + i, idx2[2] + j, maxPixel)\n",
    "\n",
    "print(idx)\n",
    "\n",
    "#sitk.WriteImage(testImg, \"./MR_Model71_Energy100_act_1_marked.nrrd\")\n",
    "#sitk.WriteImage(mrImg, \"./img0002_tcia_MR_marked.nrrd\")\n",
    "\n",
    "with M2aiaHelper as helper:\n",
    "    helper.show({\"MR\": testImg, \"CT\": ctTestImg, \"test\": testImg, \"L2RCTresampled\": L2RCTresampled, \"L2RMRresampled\": L2RMRresampled})\n"
   ]
  },
  {
   "cell_type": "code",
   "execution_count": 10,
   "metadata": {},
   "outputs": [],
   "source": [
    "def resample_image(image, size, spacing, origin, interpolator=2) -> sitk.Image:\n",
    "    resampler = sitk.ResampleImageFilter()\n",
    "    resampler.SetSize(size.tolist())\n",
    "    resampler.SetOutputSpacing(spacing.tolist())\n",
    "    resampler.SetOutputOrigin(origin.tolist())\n",
    "    image_np = sitk.GetArrayFromImage(image)\n",
    "    resampler.SetDefaultPixelValue(int(image_np.min()))\n",
    "    resampler.SetInterpolator(interpolator)\n",
    "    image_resampled = resampler.Execute(image)\n",
    "    normalized_image = normalize_image(image_resampled)\n",
    "    return normalized_image\n",
    "\n",
    "\n",
    "def normalize_image(image: sitk.Image) -> sitk.Image:\n",
    "    image_np = sitk.GetArrayFromImage(image)\n",
    "    min_value = image_np.min()\n",
    "    max_value = image_np.max()\n",
    "    image_np = (image_np - min_value) / (max_value - min_value)\n",
    "    image_result = sitk.GetImageFromArray(image_np)\n",
    "    image_result.SetSpacing(image.GetSpacing())\n",
    "    image_result.SetOrigin(image.GetOrigin())\n",
    "    return image_result\n",
    "\n",
    "\n",
    "def resample_image_0_0_0_centered(image_path: str, size: np.array,\n",
    "                                  spacing: np.array) -> sitk.Image:\n",
    "    image = sitk.ReadImage(image_path)\n",
    "    #print(image.GetDirection())\n",
    "    #image.SetDirection((1.0, 0.0, 0.0, 0.0, 1.0, 0.0, 0.0, 0.0, 1.0))\n",
    "    new_origin = calculate_origin(image)\n",
    "    image.SetOrigin(new_origin.tolist())\n",
    "    new_origin = calculate_origin(image, size, spacing)\n",
    "    image_resampled = resample_image(image, size, spacing, new_origin)\n",
    "    return image_resampled\n",
    "\n",
    "\n",
    "def calculate_origin(image: sitk.Image, size=None, spacing=None) -> np.array:\n",
    "    if size is None or spacing is None:\n",
    "        size = np.array(image.GetSize())\n",
    "        spacing = np.array(image.GetSpacing())\n",
    "        direction = np.array(image.GetDirection()).reshape((3,3))\n",
    "        return -size * (direction @ spacing) / 2.0\n",
    "    else:\n",
    "        return -size * spacing / 2.0\n",
    "\n",
    "\n",
    "all_image_paths = [\"./img0002_tcia_CT_marked.nii\", \"./img0002_tcia_MR_marked.nii\", \n",
    "                        \"./CT_Model71_Energy100_atn_1_marked.nrrd\", \"./CT_Model71_Energy90_atn_3.nrrd\", \n",
    "                            \"./MR_Model71_Energy100_act_1_marked.nrrd\", \"./MR_Model71_Energy100_act_3.nrrd\"]\n",
    "new_size, new_spacing = np.array((256, 256, 128)), np.array((1.8, 1.8, 1.8))\n",
    "for path in all_image_paths:\n",
    "    image = sitk.ReadImage(path) \n",
    "    image_resampled = resample_image_0_0_0_centered(path, new_size, new_spacing)\n",
    "    sitk.WriteImage(image_resampled, path[:-4] + \"_resampled.nrrd\")"
   ]
  },
  {
   "cell_type": "code",
   "execution_count": 12,
   "metadata": {},
   "outputs": [
    {
     "name": "stdout",
     "output_type": "stream",
     "text": [
      "You can find your images @  http://141.19.142.80:8899\n",
      "\n"
     ]
    }
   ],
   "source": [
    "origCtImg = sitk.ReadImage(\"./img0002_tcia_CT_marked.nii\")\n",
    "ctImg = sitk.ReadImage(\"./img0002_tcia_CT_marked_resampled.nrrd\")\n",
    "mrImg = sitk.ReadImage(\"./img0002_tcia_MR_marked_resampled.nrrd\")\n",
    "testImg = sitk.ReadImage(\"./resampleTest.nrrd\")\n",
    "testImgResampled = sitk.ReadImage(\"./CT_Model71_Energy90_atn_3_marked._resampled.nrrd\")\n",
    "segCT = sitk.ReadImage(\"./seg_01_logM_iso_CT.nii\")\n",
    "segMR = sitk.ReadImage(\"./seg_1_logM_chaos_MR.nii\")\n",
    "\n",
    "M2aiaHelper = M2aiaOnlineHelper(\"ipynbViewer\", \"jtfc.de:5050/m2aia/m2aia-no-vnc:with_exit\", \"8899\")\n",
    "with M2aiaHelper as helper:\n",
    "    helper.show({\"ctImg\": ctImg, \"mrImg\": mrImg, \"origCtImg\": origCtImg, \"testImg\": testImg, \"testImgResampled\": testImgResampled, \"segCT\": segCT, 'segMR': segMR})"
   ]
  },
  {
   "cell_type": "code",
   "execution_count": 2,
   "metadata": {},
   "outputs": [],
   "source": [
    "def calculate_shift(image: sitk.Image) -> np.array:\n",
    "    center_mm = (np.array(image.GetSize()) * np.array(image.GetSpacing())) / 2\n",
    "    shift_vector_mm = center_mm * (-1)\n",
    "    return shift_vector_mm\n",
    "\n",
    "\n",
    "def get_idx_resampled(image_native: sitk.Image, image_resampled: sitk.Image,\n",
    "                      shift_vector_mm: np.array,\n",
    "                      point: tuple) -> Tuple[Any, Any]:\n",
    "    point_native_mm = image_native.TransformContinuousIndexToPhysicalPoint(\n",
    "        point)\n",
    "    point_resampled_mm = point_native_mm + shift_vector_mm\n",
    "    point_resampled_idx = image_resampled.TransformPhysicalPointToIndex(\n",
    "        point_resampled_mm)\n",
    "    return (point_resampled_idx, point_resampled_mm)\n",
    "\n",
    "t1_native = sitk.ReadImage(\"./CT_Model71_Energy100_atn_1_marked.nrrd\")\n",
    "t1_resampled = sitk.ReadImage(\"./MR_Model71_Energy100_act_1_marked._resampled.nrrd\")\n",
    "t3_native = sitk.ReadImage(\"./CT_Model71_Energy90_atn_3.nrrd\")\n",
    "t3_resampled = sitk.ReadImage(\"./MR_Model71_Energy100_act_3._resampled.nrrd\")\n",
    "size_resampled = t1_resampled.GetSize()\n",
    "vector_field_path = \"./CT_Model71_Energy90_vec_frame1_to_frame2.txt\"\n",
    "\n",
    "shift_vector_t1_mm = calculate_shift(t1_native)\n",
    "shift_vector_t3_mm = calculate_shift(t3_native)\n",
    "vector_field = np.genfromtxt(vector_field_path,\n",
    "                                usecols=(2, 3, 4, 6, 7, 8),\n",
    "                                names='1X, 1Y, 1Z, 2X, 2Y, 2Z',\n",
    "                                dtype=None,\n",
    "                                skip_header=2)\n",
    "\n",
    "points_t1 = [\n",
    "    (float(vector_field[idx]['1X']), float(vector_field[idx]['1Y']),\n",
    "        float(vector_field[idx]['1Z']))\n",
    "    for (idx, _) in enumerate(vector_field)\n",
    "]\n",
    "points_t3 = [\n",
    "    (float(vector_field[idx]['2X']), float(vector_field[idx]['2Y']),\n",
    "        float(vector_field[idx]['2Z']))\n",
    "    for (idx, _) in enumerate(vector_field)\n",
    "]\n",
    "\n",
    "points_t1_resampled_idx = []\n",
    "points_t3_resampled_idx = []\n",
    "points_t1_resampled_mm = []\n",
    "points_t3_resampled_mm = []\n",
    "\n",
    "for (point_idx, _) in enumerate(points_t1):\n",
    "    point_t1_resampled_idx, point_t1_resampled_mm = get_idx_resampled(\n",
    "        t1_native, t1_resampled, shift_vector_t1_mm, points_t1[point_idx])\n",
    "        \n",
    "    point_t3_resampled_idx, point_t3_resampled_mm = get_idx_resampled(\n",
    "        t3_native, t3_resampled, shift_vector_t3_mm, points_t3[point_idx])\n",
    "\n",
    "    # if all((y >= t1 >= 0) for t1, y in zip(point_t1_resampled_idx, size_resampled)\n",
    "    #     ) and t1_resampled.GetPixel(point_t1_resampled_idx) != 0.0:\n",
    "    points_t1_resampled_idx.append(point_t1_resampled_idx)\n",
    "    points_t1_resampled_mm.append(point_t1_resampled_mm)\n",
    "    points_t3_resampled_idx.append(point_t3_resampled_idx)\n",
    "    points_t3_resampled_mm.append(point_t3_resampled_mm)"
   ]
  },
  {
   "cell_type": "code",
   "execution_count": 5,
   "metadata": {},
   "outputs": [
    {
     "name": "stdout",
     "output_type": "stream",
     "text": [
      "(90, 159, 81)\n",
      "[-68.  55.  31.]\n",
      "(90, 149, 71)\n",
      "[-68.053909  37.15094   13.369698]\n"
     ]
    }
   ],
   "source": [
    "idx = points_t1.index((188, 311, 63))\n",
    "print(points_t1_resampled_idx[idx])\n",
    "print(points_t1_resampled_mm[idx])\n",
    "t3_idx = points_t3_resampled_idx[idx]\n",
    "print(t3_idx)\n",
    "print(points_t3_resampled_mm[idx])\n",
    "\n",
    "t3Resampled = sitk.ReadImage(\"./MR_Model71_Energy100_act_3._resampled.nrrd\")\n",
    "minMaxFilter = sitk.MinimumMaximumImageFilter()\n",
    "minMaxFilter.Execute(t3Resampled)  \n",
    "maxPixel = minMaxFilter.GetMaximum() * 2\n",
    "for i in range(3): \n",
    "    for j in range(3): \n",
    "        for k in range(3):\n",
    "            t3Resampled.SetPixel(t3_idx[0] + k, t3_idx[1] + i, t3_idx[2] + j, maxPixel)\n",
    "\n",
    "sitk.WriteImage(t3Resampled, \"./MR_Model71_Energy100_act_3_marked._resampled.nrrd\")"
   ]
  },
  {
   "cell_type": "code",
   "execution_count": 6,
   "metadata": {},
   "outputs": [
    {
     "name": "stdout",
     "output_type": "stream",
     "text": [
      "You can find your images @  http://141.19.142.80:8899\n",
      "\n"
     ]
    }
   ],
   "source": [
    "t1Resampled = sitk.ReadImage(\"./CT_Model71_Energy100_atn_1_marked._resampled.nrrd\")\n",
    "t3Resampled = sitk.ReadImage(\"./CT_Model71_Energy90_atn_3_marked._resampled.nrrd\")\n",
    "t1 = sitk.ReadImage(\"./CT_Model71_Energy100_atn_1.nrrd\")\n",
    "t3 = sitk.ReadImage(\"./CT_Model71_Energy90_atn_3_marked.nrrd\")\n",
    "\n",
    "M2aiaHelper = M2aiaOnlineHelper(\"ipynbViewer\", \"jtfc.de:5050/m2aia/m2aia-no-vnc:with_exit\", \"8899\")\n",
    "with M2aiaHelper as helper:\n",
    "    helper.show({\"t1Resampled\": t1Resampled, \"t3Resampled\": t3Resampled, \"t1\": t1, \"t3\": t3})"
   ]
  },
  {
   "cell_type": "code",
   "execution_count": 9,
   "metadata": {},
   "outputs": [
    {
     "name": "stdout",
     "output_type": "stream",
     "text": [
      "You can find your images @  http://141.19.142.80:8899\n"
     ]
    },
    {
     "ename": "KeyboardInterrupt",
     "evalue": "Interrupted by user",
     "output_type": "error",
     "traceback": [
      "\u001b[0;31m---------------------------------------------------------------------------\u001b[0m",
      "\u001b[0;31mKeyboardInterrupt\u001b[0m                         Traceback (most recent call last)",
      "\u001b[0;32m/tmp/ipykernel_4037685/3068798361.py\u001b[0m in \u001b[0;36m<module>\u001b[0;34m\u001b[0m\n\u001b[1;32m      8\u001b[0m \u001b[0mM2aiaHelper\u001b[0m \u001b[0;34m=\u001b[0m \u001b[0mM2aiaOnlineHelper\u001b[0m\u001b[0;34m(\u001b[0m\u001b[0;34m\"ipynbViewer\"\u001b[0m\u001b[0;34m,\u001b[0m \u001b[0;34m\"jtfc.de:5050/m2aia/m2aia-no-vnc:with_exit\"\u001b[0m\u001b[0;34m,\u001b[0m \u001b[0;34m\"8899\"\u001b[0m\u001b[0;34m)\u001b[0m\u001b[0;34m\u001b[0m\u001b[0;34m\u001b[0m\u001b[0m\n\u001b[1;32m      9\u001b[0m \u001b[0;32mwith\u001b[0m \u001b[0mM2aiaHelper\u001b[0m \u001b[0;32mas\u001b[0m \u001b[0mhelper\u001b[0m\u001b[0;34m:\u001b[0m\u001b[0;34m\u001b[0m\u001b[0;34m\u001b[0m\u001b[0m\n\u001b[0;32m---> 10\u001b[0;31m     \u001b[0mhelper\u001b[0m\u001b[0;34m.\u001b[0m\u001b[0mshow\u001b[0m\u001b[0;34m(\u001b[0m\u001b[0;34m{\u001b[0m\u001b[0;34m\"t1Resampled\"\u001b[0m\u001b[0;34m:\u001b[0m \u001b[0mt1Resampled\u001b[0m\u001b[0;34m,\u001b[0m \u001b[0;34m\"t3Resampled\"\u001b[0m\u001b[0;34m:\u001b[0m \u001b[0mt3Resampled\u001b[0m\u001b[0;34m,\u001b[0m \u001b[0;34m\"t1\"\u001b[0m\u001b[0;34m:\u001b[0m \u001b[0mt1\u001b[0m\u001b[0;34m,\u001b[0m \u001b[0;34m\"t3\"\u001b[0m\u001b[0;34m:\u001b[0m \u001b[0mt3\u001b[0m\u001b[0;34m,\u001b[0m \u001b[0;34m\"t1ResampledCT\"\u001b[0m\u001b[0;34m:\u001b[0m \u001b[0mt1ResampledCT\u001b[0m\u001b[0;34m,\u001b[0m \u001b[0;34m\"t3ResampledCT\"\u001b[0m\u001b[0;34m:\u001b[0m \u001b[0mt3ResampledCT\u001b[0m\u001b[0;34m,\u001b[0m\u001b[0;34m}\u001b[0m\u001b[0;34m)\u001b[0m\u001b[0;34m\u001b[0m\u001b[0;34m\u001b[0m\u001b[0m\n\u001b[0m",
      "\u001b[0;32m~/Documents/scripts/pyM2aia/venv/lib/python3.8/site-packages/pyM2aia/M2aiaOnlineHelper.py\u001b[0m in \u001b[0;36mshow\u001b[0;34m(self, data)\u001b[0m\n\u001b[1;32m     64\u001b[0m               'http://' + self.IP + ':'+self.hostPort)\n\u001b[1;32m     65\u001b[0m \u001b[0;34m\u001b[0m\u001b[0m\n\u001b[0;32m---> 66\u001b[0;31m         \u001b[0minput\u001b[0m\u001b[0;34m(\u001b[0m\u001b[0;34m\"Press enter to proceed!\"\u001b[0m\u001b[0;34m)\u001b[0m\u001b[0;34m\u001b[0m\u001b[0;34m\u001b[0m\u001b[0m\n\u001b[0m\u001b[1;32m     67\u001b[0m         \u001b[0mprint\u001b[0m\u001b[0;34m(\u001b[0m\u001b[0;34m\"\"\u001b[0m\u001b[0;34m)\u001b[0m\u001b[0;34m\u001b[0m\u001b[0;34m\u001b[0m\u001b[0m\n\u001b[1;32m     68\u001b[0m \u001b[0;34m\u001b[0m\u001b[0m\n",
      "\u001b[0;32m~/Documents/scripts/pyM2aia/venv/lib/python3.8/site-packages/ipykernel/kernelbase.py\u001b[0m in \u001b[0;36mraw_input\u001b[0;34m(self, prompt)\u001b[0m\n\u001b[1;32m   1004\u001b[0m                 \u001b[0;34m\"raw_input was called, but this frontend does not support input requests.\"\u001b[0m\u001b[0;34m\u001b[0m\u001b[0;34m\u001b[0m\u001b[0m\n\u001b[1;32m   1005\u001b[0m             )\n\u001b[0;32m-> 1006\u001b[0;31m         return self._input_request(\n\u001b[0m\u001b[1;32m   1007\u001b[0m             \u001b[0mstr\u001b[0m\u001b[0;34m(\u001b[0m\u001b[0mprompt\u001b[0m\u001b[0;34m)\u001b[0m\u001b[0;34m,\u001b[0m\u001b[0;34m\u001b[0m\u001b[0;34m\u001b[0m\u001b[0m\n\u001b[1;32m   1008\u001b[0m             \u001b[0mself\u001b[0m\u001b[0;34m.\u001b[0m\u001b[0m_parent_ident\u001b[0m\u001b[0;34m[\u001b[0m\u001b[0;34m\"shell\"\u001b[0m\u001b[0;34m]\u001b[0m\u001b[0;34m,\u001b[0m\u001b[0;34m\u001b[0m\u001b[0;34m\u001b[0m\u001b[0m\n",
      "\u001b[0;32m~/Documents/scripts/pyM2aia/venv/lib/python3.8/site-packages/ipykernel/kernelbase.py\u001b[0m in \u001b[0;36m_input_request\u001b[0;34m(self, prompt, ident, parent, password)\u001b[0m\n\u001b[1;32m   1049\u001b[0m             \u001b[0;32mexcept\u001b[0m \u001b[0mKeyboardInterrupt\u001b[0m\u001b[0;34m:\u001b[0m\u001b[0;34m\u001b[0m\u001b[0;34m\u001b[0m\u001b[0m\n\u001b[1;32m   1050\u001b[0m                 \u001b[0;31m# re-raise KeyboardInterrupt, to truncate traceback\u001b[0m\u001b[0;34m\u001b[0m\u001b[0;34m\u001b[0m\u001b[0;34m\u001b[0m\u001b[0m\n\u001b[0;32m-> 1051\u001b[0;31m                 \u001b[0;32mraise\u001b[0m \u001b[0mKeyboardInterrupt\u001b[0m\u001b[0;34m(\u001b[0m\u001b[0;34m\"Interrupted by user\"\u001b[0m\u001b[0;34m)\u001b[0m \u001b[0;32mfrom\u001b[0m \u001b[0;32mNone\u001b[0m\u001b[0;34m\u001b[0m\u001b[0;34m\u001b[0m\u001b[0m\n\u001b[0m\u001b[1;32m   1052\u001b[0m             \u001b[0;32mexcept\u001b[0m \u001b[0mException\u001b[0m\u001b[0;34m:\u001b[0m\u001b[0;34m\u001b[0m\u001b[0;34m\u001b[0m\u001b[0m\n\u001b[1;32m   1053\u001b[0m                 \u001b[0mself\u001b[0m\u001b[0;34m.\u001b[0m\u001b[0mlog\u001b[0m\u001b[0;34m.\u001b[0m\u001b[0mwarning\u001b[0m\u001b[0;34m(\u001b[0m\u001b[0;34m\"Invalid Message:\"\u001b[0m\u001b[0;34m,\u001b[0m \u001b[0mexc_info\u001b[0m\u001b[0;34m=\u001b[0m\u001b[0;32mTrue\u001b[0m\u001b[0;34m)\u001b[0m\u001b[0;34m\u001b[0m\u001b[0;34m\u001b[0m\u001b[0m\n",
      "\u001b[0;31mKeyboardInterrupt\u001b[0m: Interrupted by user"
     ]
    }
   ],
   "source": [
    "t1Resampled = sitk.ReadImage(\"./MR_Model71_Energy100_act_1_marked._resampled.nrrd\")\n",
    "t3Resampled = sitk.ReadImage(\"./MR_Model71_Energy100_act_3_marked._resampled.nrrd\")\n",
    "t1ResampledCT = sitk.ReadImage(\"./CT_Model71_Energy100_atn_1_marked._resampled.nrrd\")\n",
    "t3ResampledCT = sitk.ReadImage(\"./CT_Model71_Energy90_atn_3_marked._resampled.nrrd\")\n",
    "t1 = sitk.ReadImage(\"./MR_Model71_Energy100_act_1_marked.nrrd\")\n",
    "t3 = sitk.ReadImage(\"./MR_Model71_Energy100_act_3.nrrd\")\n",
    "\n",
    "M2aiaHelper = M2aiaOnlineHelper(\"ipynbViewer\", \"jtfc.de:5050/m2aia/m2aia-no-vnc:with_exit\", \"8899\")\n",
    "with M2aiaHelper as helper:\n",
    "    helper.show({\"t1Resampled\": t1Resampled, \"t3Resampled\": t3Resampled, \"t1\": t1, \"t3\": t3, \"t1ResampledCT\": t1ResampledCT, \"t3ResampledCT\": t3ResampledCT})"
   ]
  }
 ],
 "metadata": {
  "interpreter": {
   "hash": "44e8de4acf43b6a7e66ba4c22754c5fa8e99c535fa7bedc7786fb0f99a1b1808"
  },
  "kernelspec": {
   "display_name": "Python 3.8.10 64-bit ('venv': venv)",
   "name": "python3"
  },
  "language_info": {
   "codemirror_mode": {
    "name": "ipython",
    "version": 3
   },
   "file_extension": ".py",
   "mimetype": "text/x-python",
   "name": "python",
   "nbconvert_exporter": "python",
   "pygments_lexer": "ipython3",
   "version": "3.8.10"
  },
  "orig_nbformat": 4
 },
 "nbformat": 4,
 "nbformat_minor": 2
}
